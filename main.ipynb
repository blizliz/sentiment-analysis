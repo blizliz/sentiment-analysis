{
 "cells": [
  {
   "cell_type": "markdown",
   "metadata": {
    "colab_type": "text",
    "id": "6pUsZ9eFAdyN"
   },
   "source": [
    "#Задача: сентимент-анализ предложений из текста \"Мастер и Маргарита\"\n",
    "\n",
    "Построим [KNN-классификатор](https://ru.wikipedia.org/wiki/Метод_k-ближайших_соседей) на ручной разметке (~400 примеров). Чтобы его построить нам нужно извлечь признаки из разметки, поэтому построим модель векторного пространства (попробуем [Bag-of-Words](https://en.wikipedia.org/wiki/Bag-of-words_model) и [TF-IDF](https://ru.wikipedia.org/wiki/TF-IDF))\n"
   ]
  },
  {
   "cell_type": "markdown",
   "metadata": {
    "colab_type": "text",
    "id": "TNbF5LzW-Qs2"
   },
   "source": [
    "## №1. Подготовка окружения"
   ]
  },
  {
   "cell_type": "markdown",
   "metadata": {
    "colab_type": "text",
    "id": "hOMR9NUqRU7R"
   },
   "source": [
    "### 1.1 Устанавливаем необходимые библиотеки"
   ]
  },
  {
   "cell_type": "code",
   "execution_count": 66,
   "metadata": {
    "colab": {
     "base_uri": "https://localhost:8080/",
     "height": 323
    },
    "colab_type": "code",
    "id": "N2GYoZgjRQYo",
    "outputId": "b4b9ac65-11d0-448b-a696-1316e087ff93",
    "pycharm": {
     "is_executing": false
    }
   },
   "outputs": [
    {
     "name": "stdout",
     "text": [
      "--2020-04-25 01:49:22--  http://download.cdn.yandex.net/mystem/mystem-3.0-linux3.1-64bit.tar.gz\r\n",
      "Resolving download.cdn.yandex.net (download.cdn.yandex.net)... 5.45.205.241, 5.45.205.245, 5.45.205.244, ...\r\n",
      "Connecting to download.cdn.yandex.net (download.cdn.yandex.net)|5.45.205.241|:80... connected.\r\n",
      "HTTP request sent, awaiting response... 302 Found\r\n",
      "Location: http://cache-mskstoredata03.cdn.yandex.net/download.cdn.yandex.net/mystem/mystem-3.0-linux3.1-64bit.tar.gz [following]\r\n",
      "--2020-04-25 01:49:22--  http://cache-mskstoredata03.cdn.yandex.net/download.cdn.yandex.net/mystem/mystem-3.0-linux3.1-64bit.tar.gz\r\n",
      "Resolving cache-mskstoredata03.cdn.yandex.net (cache-mskstoredata03.cdn.yandex.net)... 37.9.96.14, 2a02:6b8:0:3706::12\r\n",
      "Connecting to cache-mskstoredata03.cdn.yandex.net (cache-mskstoredata03.cdn.yandex.net)|37.9.96.14|:80... connected.\r\n",
      "HTTP request sent, awaiting response... 200 OK\r\n",
      "Length: 16457938 (16M) [application/octet-stream]\r\n",
      "Saving to: ‘mystem-3.0-linux3.1-64bit.tar.gz.1’\r\n",
      "\r\n",
      "mystem-3.0-linux3.1 100%[===================>]  15.70M  1.46MB/s    in 7.9s    \r\n",
      "\r\n",
      "2020-04-25 01:49:30 (1.99 MB/s) - ‘mystem-3.0-linux3.1-64bit.tar.gz.1’ saved [16457938/16457938]\r\n",
      "\r\n",
      "mystem\r\n",
      "cp: cannot create regular file '/bin/mystem': Permission denied\r\n"
     ],
     "output_type": "stream"
    }
   ],
   "source": [
    "# workaround for pymystem3\n",
    "\n",
    "!wget http://download.cdn.yandex.net/mystem/mystem-3.0-linux3.1-64bit.tar.gz\n",
    "!tar -xvf mystem-3.0-linux3.1-64bit.tar.gz\n",
    "!cp mystem /bin"
   ]
  },
  {
   "cell_type": "code",
   "execution_count": 67,
   "metadata": {
    "colab": {
     "base_uri": "https://localhost:8080/",
     "height": 287
    },
    "colab_type": "code",
    "id": "qAGevNglRmcE",
    "outputId": "c054e7e0-dd10-4d9f-c5d1-e60fb3bfb520",
    "pycharm": {
     "is_executing": false
    }
   },
   "outputs": [
    {
     "name": "stdout",
     "text": [
      "Requirement already satisfied: fuzzywuzzy in ./venv/lib/python3.8/site-packages (0.18.0)\r\n",
      "Requirement already satisfied: python-Levenshtein in ./venv/lib/python3.8/site-packages (0.12.0)\r\n",
      "Requirement already satisfied: setuptools in ./venv/lib/python3.8/site-packages/setuptools-40.8.0-py3.8.egg (from python-Levenshtein) (40.8.0)\r\n"
     ],
     "output_type": "stream"
    }
   ],
   "source": [
    "# libraries for calculating Levenshtein distance between words\n",
    "\n",
    "!pip install fuzzywuzzy\n",
    "!pip install python-Levenshtein"
   ]
  },
  {
   "cell_type": "code",
   "execution_count": 2,
   "metadata": {
    "colab": {},
    "colab_type": "code",
    "id": "RHWPjaHdUd2s",
    "pycharm": {
     "is_executing": false
    }
   },
   "outputs": [
    {
     "name": "stderr",
     "text": [
      "/home/andrey/PycharmProjects/sentences_analysis/venv/lib/python3.8/site-packages/pandas/compat/__init__.py:117: UserWarning: Could not import the lzma module. Your installed Python is incomplete. Attempting to use lzma compression will result in a RuntimeError.\n",
      "  warnings.warn(msg)\n"
     ],
     "output_type": "stream"
    }
   ],
   "source": [
    "import pandas as pd\n",
    "import numpy as np\n",
    "import matplotlib.pyplot as plt\n",
    "\n",
    "from pymystem3 import Mystem\n",
    "from nltk.corpus import stopwords\n",
    "from string import punctuation\n",
    "from sklearn.feature_extraction.text import CountVectorizer, TfidfVectorizer\n",
    "import nltk\n",
    "import re"
   ]
  },
  {
   "cell_type": "code",
   "execution_count": 69,
   "metadata": {
    "pycharm": {
     "name": "#%%\n",
     "is_executing": false
    }
   },
   "outputs": [],
   "source": [
    "# library for interacting with Google Drive\n",
    "\n",
    "!pip install -U -q PyDrive"
   ]
  },
  {
   "cell_type": "markdown",
   "metadata": {
    "colab_type": "text",
    "id": "xGwsz3KpRORe"
   },
   "source": [
    "### 1.2 Загружаем файл разметки"
   ]
  },
  {
   "cell_type": "markdown",
   "metadata": {},
   "source": [
    "#### для Google Colab"
   ]
  },
  {
   "cell_type": "code",
   "execution_count": 1,
   "metadata": {
    "colab": {},
    "colab_type": "code",
    "id": "PMVQ7278-Obf",
    "pycharm": {
     "is_executing": false
    }
   },
   "outputs": [],
   "source": [
    "# data links to files in GDrive:\n",
    "dataset_sheetname = 'ПРЕДЛОЖЕНИЯ'\n",
    "link_to_dataset = 'https://docs.google.com/spreadsheets/d/1fyqJ3oIc-UAKpqHzgzS7PKaij9Nhg-1KtqEMLo4uHu0/edit#gid=0'\n",
    "_, book_id = link_to_dataset.split('=')"
   ]
  },
  {
   "cell_type": "code",
   "execution_count": 71,
   "metadata": {
    "colab": {},
    "colab_type": "code",
    "id": "XU8OovjS3gyz",
    "pycharm": {
     "is_executing": false
    }
   },
   "outputs": [],
   "source": [
    "# Code to read csv file into Colaboratory:\n",
    "# from pydrive.auth import GoogleAuth\n",
    "# from pydrive.drive import GoogleDrive\n",
    "# from google.colab import auth\n",
    "# from oauth2client.client import GoogleCredentials\n",
    "# \n",
    "# import gspread\n",
    "# \n",
    "# # Authenticate and create the PyDrive client.\n",
    "# gauth = GoogleAuth()\n",
    "# auth.authenticate_user()\n",
    "# gauth.credentials = GoogleCredentials.get_application_default()\n",
    "# drive = GoogleDrive(gauth)\n",
    "# gc = gspread.authorize(gauth.credentials)\n",
    "# \n",
    "# # open excel-file\n",
    "# wb = gc.open_by_url(link_to_dataset)\n",
    "# sheet = wb.worksheet(dataset_sheetname)\n",
    "# all_data = sheet.get_all_values()"
   ]
  },
  {
   "cell_type": "markdown",
   "metadata": {},
   "source": [
    "#### локально"
   ]
  },
  {
   "cell_type": "code",
   "execution_count": 1,
   "metadata": {
    "pycharm": {
     "is_executing": false,
     "name": "#%%\n"
    }
   },
   "outputs": [
    {
     "traceback": [
      "\u001b[0;31m---------------------------------------------------------------------------\u001b[0m",
      "\u001b[0;31mNameError\u001b[0m                                 Traceback (most recent call last)",
      "\u001b[0;32m<ipython-input-1-3eb9191d5a40>\u001b[0m in \u001b[0;36m<module>\u001b[0;34m\u001b[0m\n\u001b[0;32m----> 1\u001b[0;31m \u001b[0mdata\u001b[0m \u001b[0;34m=\u001b[0m \u001b[0mpd\u001b[0m\u001b[0;34m.\u001b[0m\u001b[0mread_excel\u001b[0m\u001b[0;34m(\u001b[0m\u001b[0;34m'data/KNN (1-3,5).xlsx'\u001b[0m\u001b[0;34m)\u001b[0m\u001b[0;34m\u001b[0m\u001b[0;34m\u001b[0m\u001b[0m\n\u001b[0m\u001b[1;32m      2\u001b[0m \u001b[0;34m\u001b[0m\u001b[0m\n",
      "\u001b[0;31mNameError\u001b[0m: name 'pd' is not defined"
     ],
     "ename": "NameError",
     "evalue": "name 'pd' is not defined",
     "output_type": "error"
    }
   ],
   "source": [
    "data = pd.read_excel('data/KNN (1-3,5).xlsx')  "
   ]
  },
  {
   "cell_type": "markdown",
   "metadata": {
    "colab_type": "text",
    "id": "AtvftpvYBSJM"
   },
   "source": [
    "## №2. Подготовка данных"
   ]
  },
  {
   "cell_type": "code",
   "execution_count": 4,
   "metadata": {
    "colab": {
     "base_uri": "https://localhost:8080/",
     "height": 53
    },
    "colab_type": "code",
    "id": "xrgbCixR2nfJ",
    "outputId": "b02d34d3-705b-449c-b277-7af5f485776d",
    "pycharm": {
     "is_executing": false
    }
   },
   "outputs": [
    {
     "name": "stderr",
     "text": [
      "[nltk_data] Downloading package stopwords to /home/andrey/nltk_data...\n",
      "[nltk_data]   Package stopwords is already up-to-date!\n"
     ],
     "output_type": "stream"
    }
   ],
   "source": [
    "nltk.download(\"stopwords\")\n",
    "russian_stopwords = stopwords.words(\"russian\")\n",
    "mystem = Mystem()\n",
    "# data = pd.DataFrame(data[1:], columns=data[0])"
   ]
  },
  {
   "cell_type": "markdown",
   "metadata": {
    "colab_type": "text",
    "id": "MiOKGPPsVqbA"
   },
   "source": [
    "Функция для предобработки предложений. Что она делает:\n",
    "+ Лемматизация слов\n",
    "+ Отбрасывание стоп-слов (частицы, союзы, местоимения)\n",
    "+ Удаление знаков пунктуации\n"
   ]
  },
  {
   "cell_type": "code",
   "execution_count": 5,
   "metadata": {
    "colab": {},
    "colab_type": "code",
    "id": "gee7eE2TVpN-",
    "pycharm": {
     "is_executing": false
    }
   },
   "outputs": [],
   "source": [
    "def preprocess_sentence(sentence):\n",
    "    tokens = mystem.lemmatize(sentence.lower())\n",
    "    tokens = [token for token in tokens if token not in russian_stopwords\\\n",
    "              and token != \" \" \\\n",
    "              and token.strip() not in punctuation]\n",
    "    \n",
    "    tokenized_sentence = \" \".join(tokens)\n",
    "    return tokenized_sentence   "
   ]
  },
  {
   "cell_type": "markdown",
   "metadata": {
    "colab_type": "text",
    "id": "aV-274ZYCN4w"
   },
   "source": [
    "Функция для предобротки меток (эмоций) из разметки:\n",
    "\n",
    "+ Разбиение на отдельные классы\n",
    "+ Нормализация классов (сведение более мягких эмоций к более сильным)\n",
    "+ Проверка, что указана корректная эмоция (одна из эмоций по теории Келлермана-Плутчика)"
   ]
  },
  {
   "cell_type": "code",
   "execution_count": 2,
   "metadata": {
    "colab": {},
    "colab_type": "code",
    "id": "kpXf8rvw2nfg",
    "pycharm": {
     "is_executing": false,
     "name": "#%%\n"
    }
   },
   "outputs": [],
   "source": [
    "emotions_table = {\n",
    "    'восторг': 'восторг',\n",
    "\t\t'радость': 'восторг',\n",
    "\t\t'безмятежность': 'восторг',\n",
    "    'восхищение': 'восхищение',\n",
    "\t\t'доверие': 'восхищение',\n",
    "\t\t'принятие': 'восхищение',\n",
    "    'ужас': 'ужас',\n",
    "\t\t'страх': 'ужас',\n",
    "\t\t'тревога': 'ужас',\n",
    "    'изумление': 'изумление',\n",
    "\t\t'удивление': 'изумление',\n",
    "\t\t'возбуждение': 'изумление',\n",
    "    'горе': 'горе',\n",
    "\t\t'грусть': 'горе',\n",
    "\t\t'печаль': 'горе',\n",
    "    'отвращение': 'отвращение',\n",
    "\t\t'неудовольствие': 'отвращение',\n",
    "\t\t'скука': 'отвращение',\n",
    "    'гнев': 'гнев',\n",
    "\t\t'злость': 'гнев',\n",
    "\t\t'досада': 'гнев',\n",
    "    'настороженность': 'настороженность',\n",
    "\t\t'ожидание': 'настороженность',\n",
    "\t\t'интерес': 'настороженность',\n",
    "}\n",
    "\n",
    "def normalize_emotion(emotion):\n",
    "    emotion = emotion.lower()\n",
    "    result = emotions_table.get(emotion)\n",
    "    assert result is not None, f\"Emotion '{emotion}' is not correct one.\"\n",
    "    return result"
   ]
  },
  {
   "cell_type": "markdown",
   "metadata": {
    "colab_type": "text",
    "id": "HvhyjwJyW9eo"
   },
   "source": [
    "Непосредственно предобработка данных из файла с разметкой:"
   ]
  },
  {
   "cell_type": "code",
   "execution_count": 8,
   "metadata": {
    "colab": {
     "base_uri": "https://localhost:8080/",
     "height": 1000
    },
    "colab_type": "code",
    "id": "GtfaXPUl2nfl",
    "outputId": "4a75c356-6614-48b0-b3e1-f65357f2bc62",
    "pycharm": {
     "is_executing": false,
     "name": "#%%\n"
    }
   },
   "outputs": [],
   "source": [
    "processed_sentences = list(map(preprocess_sentence, data['Предложение']))\n",
    "temp = pd.DataFrame(columns=['Предложение', 'Эмоция'])\n",
    "\n",
    "for i, (emotion, sentence) in enumerate(zip(data['Эмоция'], processed_sentences)):\n",
    "    if any(delim in emotion for delim in (' ', ',', '.', '\\n')):\n",
    "        emotions = [normalize_emotion(e) for e in re.split('[ ,.\\n]', emotion.strip()) if e != '']\n",
    "        # for e in emotions:\n",
    "        #     temp = temp.append({'Предложение': sentence, 'Эмоция': e}, ignore_index=True)\n",
    "        temp = temp.append({'Предложение': sentence, 'Эмоция': emotions[0]}, ignore_index=True)\n",
    "    else:\n",
    "        temp = temp.append({'Предложение': sentence, 'Эмоция': normalize_emotion(emotion)}, ignore_index=True)\n",
    "\n",
    "processed_data = temp\n",
    "print(processed_data)"
   ]
  },
  {
   "cell_type": "markdown",
   "metadata": {
    "colab_type": "text",
    "id": "RMrpns2_2nfr"
   },
   "source": [
    "## №3. Моделирование\n",
    "\n"
   ]
  },
  {
   "cell_type": "markdown",
   "metadata": {
    "colab_type": "text",
    "id": "uEPez3mFDuay"
   },
   "source": [
    "### 3.1 Bag-of-Words\n",
    "Строим модель текста по разметке используя модель называемую \"Мешок Слов\""
   ]
  },
  {
   "cell_type": "code",
   "execution_count": 11,
   "metadata": {
    "colab": {},
    "colab_type": "code",
    "id": "0n8jNRJ52nft",
    "pycharm": {
     "is_executing": false,
     "name": "#%%\n"
    }
   },
   "outputs": [
    {
     "traceback": [
      "\u001b[0;31m---------------------------------------------------------------------------\u001b[0m",
      "\u001b[0;31mNameError\u001b[0m                                 Traceback (most recent call last)",
      "\u001b[0;32m<ipython-input-11-36e3d519421e>\u001b[0m in \u001b[0;36m<module>\u001b[0;34m\u001b[0m\n\u001b[1;32m      1\u001b[0m \u001b[0mvectorizer_count\u001b[0m \u001b[0;34m=\u001b[0m \u001b[0mCountVectorizer\u001b[0m\u001b[0;34m(\u001b[0m\u001b[0;34m)\u001b[0m\u001b[0;34m\u001b[0m\u001b[0;34m\u001b[0m\u001b[0m\n\u001b[0;32m----> 2\u001b[0;31m \u001b[0mvectorizer_count\u001b[0m\u001b[0;34m.\u001b[0m\u001b[0mfit\u001b[0m\u001b[0;34m(\u001b[0m\u001b[0mprocessed_data\u001b[0m\u001b[0;34m[\u001b[0m\u001b[0;34m'Предложение'\u001b[0m\u001b[0;34m]\u001b[0m\u001b[0;34m)\u001b[0m\u001b[0;34m\u001b[0m\u001b[0;34m\u001b[0m\u001b[0m\n\u001b[0m\u001b[1;32m      3\u001b[0m \u001b[0;34m\u001b[0m\u001b[0m\n\u001b[1;32m      4\u001b[0m \u001b[0;31m# encode document\u001b[0m\u001b[0;34m\u001b[0m\u001b[0;34m\u001b[0m\u001b[0;34m\u001b[0m\u001b[0m\n\u001b[1;32m      5\u001b[0m \u001b[0mcount_vec_matrix\u001b[0m \u001b[0;34m=\u001b[0m \u001b[0mvectorizer_count\u001b[0m\u001b[0;34m.\u001b[0m\u001b[0mtransform\u001b[0m\u001b[0;34m(\u001b[0m\u001b[0mprocessed_data\u001b[0m\u001b[0;34m[\u001b[0m\u001b[0;34m'Предложение'\u001b[0m\u001b[0;34m]\u001b[0m\u001b[0;34m)\u001b[0m\u001b[0;34m\u001b[0m\u001b[0;34m\u001b[0m\u001b[0m\n",
      "\u001b[0;31mNameError\u001b[0m: name 'processed_data' is not defined"
     ],
     "ename": "NameError",
     "evalue": "name 'processed_data' is not defined",
     "output_type": "error"
    }
   ],
   "source": [
    "vectorizer_count = CountVectorizer()\n",
    "vectorizer_count.fit(processed_data['Предложение'])\n",
    "\n",
    "# encode document\n",
    "count_vec_matrix = vectorizer_count.transform(processed_data['Предложение'])"
   ]
  },
  {
   "cell_type": "markdown",
   "metadata": {
    "colab_type": "text",
    "id": "wvNmMxMi2ngB"
   },
   "source": [
    "### 3.2 TF-IDF"
   ]
  },
  {
   "cell_type": "code",
   "execution_count": 78,
   "metadata": {
    "colab": {},
    "colab_type": "code",
    "id": "RSdXDf4t2ngD",
    "pycharm": {
     "is_executing": false,
     "name": "#%%\n"
    }
   },
   "outputs": [],
   "source": [
    "vectorizer_tfidf = TfidfVectorizer()\n",
    "vectorizer_tfidf.fit(processed_data['Предложение'])\n",
    "\n",
    "# encode document\n",
    "tfidf_vec_matrix = vectorizer_tfidf.transform(processed_data['Предложение'])"
   ]
  },
  {
   "cell_type": "markdown",
   "metadata": {
    "colab_type": "text",
    "id": "LBNywnsU2ngK"
   },
   "source": [
    "## №4. Классификация"
   ]
  },
  {
   "cell_type": "code",
   "execution_count": 10,
   "metadata": {
    "colab": {},
    "colab_type": "code",
    "id": "gzY1osNWcfsZ",
    "pycharm": {
     "is_executing": false
    }
   },
   "outputs": [],
   "source": [
    "from typing import List, Iterable, Dict, Tuple\n",
    "\n",
    "import collections\n",
    "import functools\n",
    "import itertools\n",
    "import multiprocessing\n",
    "import scipy\n",
    "import time\n",
    "\n",
    "from sklearn.model_selection import train_test_split\n",
    "from sklearn.neighbors import KNeighborsClassifier\n",
    "from sklearn.metrics import classification_report, confusion_matrix, accuracy_score\n",
    "\n",
    "from nltk.stem.snowball import RussianStemmer\n",
    "stemmer = RussianStemmer()"
   ]
  },
  {
   "cell_type": "markdown",
   "metadata": {
    "colab_type": "text",
    "id": "uXqJhVnicLt4"
   },
   "source": [
    "### 4.1 Обучение классификатора \n",
    "Строим модели с разнами разбиениями датасета и разными k для KNN."
   ]
  },
  {
   "cell_type": "code",
   "execution_count": 5,
   "metadata": {
    "colab": {},
    "colab_type": "code",
    "id": "bSoiMAdF2ngL",
    "pycharm": {
     "is_executing": false,
     "name": "#%%\n"
    }
   },
   "outputs": [
    {
     "traceback": [
      "\u001b[0;31m---------------------------------------------------------------------------\u001b[0m",
      "\u001b[0;31mNameError\u001b[0m                                 Traceback (most recent call last)",
      "\u001b[0;32m<ipython-input-5-f7f274736777>\u001b[0m in \u001b[0;36m<module>\u001b[0;34m\u001b[0m\n\u001b[1;32m     10\u001b[0m   \u001b[0;32mreturn\u001b[0m \u001b[0mcolors\u001b[0m\u001b[0;34m\u001b[0m\u001b[0;34m\u001b[0m\u001b[0m\n\u001b[1;32m     11\u001b[0m \u001b[0;34m\u001b[0m\u001b[0m\n\u001b[0;32m---> 12\u001b[0;31m \u001b[0;32mdef\u001b[0m \u001b[0m_knn_analysis\u001b[0m\u001b[0;34m(\u001b[0m\u001b[0mX\u001b[0m\u001b[0;34m,\u001b[0m \u001b[0my\u001b[0m\u001b[0;34m,\u001b[0m \u001b[0msplits\u001b[0m\u001b[0;34m,\u001b[0m \u001b[0mk_interval\u001b[0m\u001b[0;34m)\u001b[0m \u001b[0;34m->\u001b[0m \u001b[0mTuple\u001b[0m\u001b[0;34m[\u001b[0m\u001b[0mList\u001b[0m\u001b[0;34m[\u001b[0m\u001b[0mList\u001b[0m\u001b[0;34m[\u001b[0m\u001b[0mfloat\u001b[0m\u001b[0;34m]\u001b[0m\u001b[0;34m]\u001b[0m\u001b[0;34m,\u001b[0m \u001b[0mList\u001b[0m\u001b[0;34m[\u001b[0m\u001b[0mList\u001b[0m\u001b[0;34m[\u001b[0m\u001b[0mfloat\u001b[0m\u001b[0;34m]\u001b[0m\u001b[0;34m]\u001b[0m\u001b[0;34m,\u001b[0m \u001b[0mDict\u001b[0m\u001b[0;34m[\u001b[0m\u001b[0mstr\u001b[0m\u001b[0;34m,\u001b[0m \u001b[0mint\u001b[0m\u001b[0;34m]\u001b[0m\u001b[0;34m]\u001b[0m\u001b[0;34m:\u001b[0m\u001b[0;34m\u001b[0m\u001b[0;34m\u001b[0m\u001b[0m\n\u001b[0m\u001b[1;32m     13\u001b[0m   \u001b[0merror_over_splits_train\u001b[0m \u001b[0;34m=\u001b[0m \u001b[0;34m[\u001b[0m\u001b[0;34m]\u001b[0m\u001b[0;34m\u001b[0m\u001b[0;34m\u001b[0m\u001b[0m\n\u001b[1;32m     14\u001b[0m   \u001b[0merror_over_splits_test\u001b[0m \u001b[0;34m=\u001b[0m \u001b[0;34m[\u001b[0m\u001b[0;34m]\u001b[0m\u001b[0;34m\u001b[0m\u001b[0;34m\u001b[0m\u001b[0m\n",
      "\u001b[0;31mNameError\u001b[0m: name 'Tuple' is not defined"
     ],
     "ename": "NameError",
     "evalue": "name 'Tuple' is not defined",
     "output_type": "error"
    }
   ],
   "source": [
    "DEFAULT_COLORS = ['red', 'green', 'orange', 'purple', 'blue', 'gray', 'pink']\n",
    "DEFAULT_SPLITS = [0.20, 0.30, 0.40, 0.50]\n",
    "\n",
    "def get_colors(n):\n",
    "  colors = DEFAULT_COLORS[:n]\n",
    "  if n > len(DEFAULT_COLORS):\n",
    "    import matplotlib, random\n",
    "    all_colours = matplotlib.colors.get_named_colors_mapping()\n",
    "    colors.extend(random.choices(all_colours, k=n-len(DEFAULT_COLORS)))\n",
    "  return colors\n",
    "\n",
    "def _knn_analysis(X, y, splits, k_interval) -> Tuple[List[List[float]], List[List[float]], Dict[str, int]]:\n",
    "  error_over_splits_train = []\n",
    "  error_over_splits_test = []\n",
    "  best_result = {'split': 0, 'k': 0, 'error': 1}\n",
    "  for split in splits:\n",
    "    X_train, X_test, y_train, y_test = train_test_split(X, y, test_size=split)\n",
    "    #---------------------\n",
    "    # here could be scaler\n",
    "    #---------------------\n",
    "    # Comparing Error Rate with the K Value\n",
    "    # (calculating error for K values in k_range)\n",
    "    error_for_one_split = []\n",
    "    \n",
    "    err_one_split_test = []\n",
    "    err_one_split_train = []\n",
    "    \n",
    "    for i in k_interval:\n",
    "        knn = KNeighborsClassifier(n_neighbors=i)\n",
    "        knn.fit(X_train, y_train)\n",
    "        \n",
    "        y_train_predict = knn.predict(X_train)\n",
    "        y_test_predict = knn.predict(X_test)\n",
    "        \n",
    "        err_train_tmp = np.mean(y_train != y_train_predict)\n",
    "        err_test_tmp = np.mean(y_test != y_test_predict)\n",
    "        \n",
    "        err_one_split_test.append(err_test_tmp)\n",
    "        err_one_split_train.append(err_train_tmp)\n",
    "        \n",
    "        # check the best result\n",
    "        if err_test_tmp < best_result['error']:\n",
    "            best_result['split'] = split\n",
    "            best_result['k'] = i\n",
    "            best_result['error'] = err_test_tmp\n",
    "    error_over_splits_train.append(err_one_split_train)\n",
    "    error_over_splits_test.append(err_one_split_test)\n",
    "  return error_over_splits_train, error_over_splits_test, best_result"
   ]
  },
  {
   "cell_type": "markdown",
   "metadata": {
    "colab_type": "text",
    "id": "kegJBDOicc72"
   },
   "source": [
    "### 4.2 Визуализация результатов"
   ]
  },
  {
   "cell_type": "code",
   "execution_count": 12,
   "metadata": {
    "colab": {},
    "colab_type": "code",
    "id": "lRqijiafcdNN",
    "pycharm": {
     "is_executing": false
    }
   },
   "outputs": [],
   "source": [
    "def visualize_knn_analysis(X, y, splits=None, min_k=1, max_k=40):\n",
    "  if not splits:\n",
    "    splits = DEFAULT_SPLITS\n",
    "  k_range = range(min_k, max_k+1)\n",
    "  \n",
    "  # Training and Predictions\n",
    "  errors_over_splits_train, errors_over_splits_test, best_res = _knn_analysis(X, y, splits, k_range)\n",
    "          \n",
    "  # Plot results\n",
    "  plt.figure(num=1, figsize=(12, 6))\n",
    "  for test_size, errors_on_split, color in zip(splits, errors_over_splits_train, get_colors(len(splits))):\n",
    "    label_name = str(int(test_size * 100)) + '%/'+ str(int((1 - test_size) * 100)) + '%'\n",
    "    plt.plot(k_range, errors_on_split, color=color, marker='o', markerfacecolor='blue', markersize=2, label=label_name)\n",
    "\n",
    "  plt.title('Error Rate K Value')\n",
    "  plt.xlabel('K Value')\n",
    "  plt.ylabel('Mean Train Error')\n",
    "  plt.legend(loc='best')\n",
    "  \n",
    "  plt.figure(num=2, figsize=(12, 6))\n",
    "  for test_size, errors_on_split, color in zip(splits, errors_over_splits_test, get_colors(len(splits))):\n",
    "    label_name = str(int(test_size * 100)) + '%/'+ str(int((1 - test_size) * 100)) + '%'\n",
    "    plt.plot(k_range, errors_on_split, color=color, marker='o', markerfacecolor='blue', markersize=2, label=label_name)\n",
    "  plt.title('Error Rate K Value')\n",
    "  plt.xlabel('K Value')\n",
    "  plt.ylabel('Mean Test Error')\n",
    "  plt.legend(loc='best')\n",
    "  \n",
    "  print(\"Best set:\")\n",
    "  print(\"Split: \" + str(int((1 - best_res['split']) * 100)) + '%/' + str(int(best_res['split'] * 100)) + '%')\n",
    "  print(\"K: \" + str(best_res['k']))\n",
    "  print(\"Error value: \" + str(best_res['error']))"
   ]
  },
  {
   "cell_type": "markdown",
   "metadata": {
    "colab_type": "text",
    "id": "AWuHs8IzdRlJ"
   },
   "source": [
    "### 4.3 Оптимизация пространства признаков"
   ]
  },
  {
   "cell_type": "code",
   "execution_count": 6,
   "metadata": {
    "colab": {},
    "colab_type": "code",
    "id": "4q76QCw6ImsP",
    "pycharm": {
     "is_executing": false
    }
   },
   "outputs": [
    {
     "traceback": [
      "\u001b[0;31m---------------------------------------------------------------------------\u001b[0m",
      "\u001b[0;31mNameError\u001b[0m                                 Traceback (most recent call last)",
      "\u001b[0;32m<ipython-input-6-5c94892bdd9b>\u001b[0m in \u001b[0;36m<module>\u001b[0;34m\u001b[0m\n\u001b[0;32m----> 1\u001b[0;31m \u001b[0;32mdef\u001b[0m \u001b[0mfeature_optimize\u001b[0m\u001b[0;34m(\u001b[0m\u001b[0mX\u001b[0m\u001b[0;34m:\u001b[0m\u001b[0mscipy\u001b[0m\u001b[0;34m.\u001b[0m\u001b[0msparse\u001b[0m\u001b[0;34m.\u001b[0m\u001b[0mcsr_matrix\u001b[0m\u001b[0;34m,\u001b[0m \u001b[0mvectorizer\u001b[0m\u001b[0;34m,\u001b[0m \u001b[0mcomparator\u001b[0m\u001b[0;34m,\u001b[0m \u001b[0;34m*\u001b[0m\u001b[0;34m,\u001b[0m \u001b[0mstemming\u001b[0m\u001b[0;34m=\u001b[0m\u001b[0;32mFalse\u001b[0m\u001b[0;34m,\u001b[0m \u001b[0mdebug\u001b[0m\u001b[0;34m=\u001b[0m\u001b[0;32mFalse\u001b[0m\u001b[0;34m,\u001b[0m \u001b[0;34m**\u001b[0m\u001b[0mkwargs\u001b[0m\u001b[0;34m)\u001b[0m \u001b[0;34m->\u001b[0m \u001b[0mscipy\u001b[0m\u001b[0;34m.\u001b[0m\u001b[0msparse\u001b[0m\u001b[0;34m.\u001b[0m\u001b[0mcsr_matrix\u001b[0m\u001b[0;34m:\u001b[0m\u001b[0;34m\u001b[0m\u001b[0;34m\u001b[0m\u001b[0m\n\u001b[0m\u001b[1;32m      2\u001b[0m   \u001b[0mdf\u001b[0m \u001b[0;34m=\u001b[0m \u001b[0mpd\u001b[0m\u001b[0;34m.\u001b[0m\u001b[0mDataFrame\u001b[0m\u001b[0;34m(\u001b[0m\u001b[0mX\u001b[0m\u001b[0;34m.\u001b[0m\u001b[0mtoarray\u001b[0m\u001b[0;34m(\u001b[0m\u001b[0;34m)\u001b[0m\u001b[0;34m,\u001b[0m \u001b[0mcolumns\u001b[0m\u001b[0;34m=\u001b[0m\u001b[0mvectorizer\u001b[0m\u001b[0;34m.\u001b[0m\u001b[0mvocabulary_\u001b[0m\u001b[0;34m)\u001b[0m\u001b[0;34m\u001b[0m\u001b[0;34m\u001b[0m\u001b[0m\n\u001b[1;32m      3\u001b[0m   \u001b[0;32mif\u001b[0m \u001b[0mdebug\u001b[0m\u001b[0;34m:\u001b[0m\u001b[0;34m\u001b[0m\u001b[0;34m\u001b[0m\u001b[0m\n\u001b[1;32m      4\u001b[0m     \u001b[0mprint\u001b[0m\u001b[0;34m(\u001b[0m\u001b[0;34mf'Columns before: {len(df.columns)}'\u001b[0m\u001b[0;34m)\u001b[0m\u001b[0;34m\u001b[0m\u001b[0;34m\u001b[0m\u001b[0m\n\u001b[1;32m      5\u001b[0m \u001b[0;34m\u001b[0m\u001b[0m\n",
      "\u001b[0;31mNameError\u001b[0m: name 'scipy' is not defined"
     ],
     "ename": "NameError",
     "evalue": "name 'scipy' is not defined",
     "output_type": "error"
    }
   ],
   "source": [
    "def feature_optimize(X:scipy.sparse.csr_matrix, vectorizer, comparator, *, stemming=False, debug=False, **kwargs) -> scipy.sparse.csr_matrix:\n",
    "  df = pd.DataFrame(X.toarray(), columns=vectorizer.vocabulary_)\n",
    "  if debug:\n",
    "    print(f'Columns before: {len(df.columns)}')\n",
    "\n",
    "  # getting similar columns\n",
    "  start = time.time()\n",
    "  similar_col_groups = collections.defaultdict(set)\n",
    "  if stemming:\n",
    "    words_and_stems = {w: stemmer.stem(w) for w in df.columns}\n",
    "    df = df.groupby(level=0, axis=1).sum()\n",
    "  words = list(df.columns)\n",
    "  for i, (w1, w2) in enumerate(filter(lambda word_pair: comparator(*word_pair, **kwargs), \n",
    "                                      itertools.combinations(words, 2)), 1):\n",
    "    similar_col_groups[w1].add(w2)\n",
    "    similar_col_groups[w2].add(w1)\n",
    "    if debug:\n",
    "      if i % 1000 == 0:\n",
    "        print(f\"{i} entries are matched by comparator\")\n",
    "  if debug:\n",
    "    print('PROCESSING TIME:', time.time() - start)\n",
    "    print(f'Got similar_col_groups (len: {len(similar_col_groups)})')\n",
    "  \n",
    "  _merge_intersecting_groups(similar_col_groups)\n",
    "  if debug:\n",
    "    print('Groups after merging:', len(similar_col_groups))\n",
    "\n",
    "  df = join_columns(similar_col_groups.items(), df, debug)\n",
    "  if debug:\n",
    "    print(f'Columns after: {len(df.columns)}')\n",
    "  return scipy.sparse.csr_matrix(df.values)\n",
    "\n",
    "def _merge_intersecting_groups(similar_col_groups):\n",
    "  def merge_subkeys_into_group(main_key, group, subkeys=None):\n",
    "    if subkeys is None:\n",
    "      subkeys = set(group)\n",
    "    else:\n",
    "      group.update(subkeys)\n",
    "    for key in subkeys:\n",
    "      if key in similar_col_groups:\n",
    "        new_keys = similar_col_groups[key] - group - {key, main_key}\n",
    "        if len(new_keys) > 0:\n",
    "          merge_subkeys_into_group(main_key, group, new_keys)\n",
    "        del similar_col_groups[key]\n",
    "  for key in tuple(similar_col_groups.keys()):\n",
    "    if key in similar_col_groups:\n",
    "      group = similar_col_groups[key]\n",
    "      merge_subkeys_into_group(key, group)\n",
    "      \n",
    "def join_columns(column_groups: Iterable[Tuple[str, Iterable[str]]], df: pd.DataFrame, debug) -> pd.DataFrame:\n",
    "  if debug:\n",
    "    print('DF in \"join_columns\":\\n', df)\n",
    "  for key, group in column_groups:\n",
    "    for subkey in group:\n",
    "      if subkey in df.columns:\n",
    "        try:\n",
    "          df[key] += df[subkey]\n",
    "        except Exception as e:\n",
    "          rendered_cols = \", \".join(f\"'{col_name}\" for col_name in df.columns)\n",
    "          rendered_group = \", \".join(f\"'{k}'\" for k in group)\n",
    "          print(f\"key: '{key}'; subkey '{subkey}' [cols: {rendered_cols}] [group: {rendered_group}]\")\n",
    "          print(f\"df[key]: {df[key]}; df[subkey]: {df[subkey]}\")\n",
    "          exit('ERROR')\n",
    "        del df[subkey]\n",
    "      elif debug:\n",
    "        rendered_cols = \", \".join(f\"'{col_name}\" for col_name in df.columns)\n",
    "        rendered_group = \", \".join(f\"'{k}'\" for k in group)\n",
    "        print(f\"key: '{key}'; subkey '{subkey}' do not exist in DF [cols: {rendered_cols}] [group: {rendered_group}]\")\n",
    "  return df"
   ]
  },
  {
   "cell_type": "markdown",
   "metadata": {
    "colab_type": "text",
    "id": "vlVBIgfK2ngR"
   },
   "source": [
    "## №5. Анализ"
   ]
  },
  {
   "cell_type": "markdown",
   "metadata": {
    "colab_type": "text",
    "id": "HjZ_dHhBi7qX"
   },
   "source": [
    "### **5.1 Bag-of-Words + KNN**"
   ]
  },
  {
   "cell_type": "markdown",
   "metadata": {
    "colab_type": "text",
    "id": "QpHKEo5adx1h"
   },
   "source": [
    "#### **Baseline**"
   ]
  },
  {
   "cell_type": "code",
   "execution_count": 7,
   "metadata": {
    "colab": {
     "base_uri": "https://localhost:8080/"
    },
    "colab_type": "code",
    "id": "F6gVJGM6BZKC",
    "outputId": "b9d281a7-0b60-4907-8808-628b1fcd3968",
    "pycharm": {
     "is_executing": false
    }
   },
   "outputs": [
    {
     "traceback": [
      "\u001b[0;31m---------------------------------------------------------------------------\u001b[0m",
      "\u001b[0;31mNameError\u001b[0m                                 Traceback (most recent call last)",
      "\u001b[0;32m<ipython-input-7-38c14b19c94a>\u001b[0m in \u001b[0;36m<module>\u001b[0;34m\u001b[0m\n\u001b[0;32m----> 1\u001b[0;31m \u001b[0mX\u001b[0m \u001b[0;34m=\u001b[0m \u001b[0mcount_vec_matrix\u001b[0m\u001b[0;34m\u001b[0m\u001b[0;34m\u001b[0m\u001b[0m\n\u001b[0m\u001b[1;32m      2\u001b[0m \u001b[0my\u001b[0m \u001b[0;34m=\u001b[0m \u001b[0mprocessed_data\u001b[0m\u001b[0;34m[\u001b[0m\u001b[0;34m'Эмоция'\u001b[0m\u001b[0;34m]\u001b[0m\u001b[0;34m.\u001b[0m\u001b[0mto_numpy\u001b[0m\u001b[0;34m(\u001b[0m\u001b[0;34m)\u001b[0m\u001b[0;34m\u001b[0m\u001b[0;34m\u001b[0m\u001b[0m\n\u001b[1;32m      3\u001b[0m \u001b[0;34m\u001b[0m\u001b[0m\n\u001b[1;32m      4\u001b[0m \u001b[0mvisualize_knn_analysis\u001b[0m\u001b[0;34m(\u001b[0m\u001b[0mX\u001b[0m\u001b[0;34m,\u001b[0m \u001b[0my\u001b[0m\u001b[0;34m)\u001b[0m\u001b[0;34m\u001b[0m\u001b[0;34m\u001b[0m\u001b[0m\n\u001b[1;32m      5\u001b[0m \u001b[0;34m\u001b[0m\u001b[0m\n",
      "\u001b[0;31mNameError\u001b[0m: name 'count_vec_matrix' is not defined"
     ],
     "ename": "NameError",
     "evalue": "name 'count_vec_matrix' is not defined",
     "output_type": "error"
    }
   ],
   "source": [
    "X = count_vec_matrix\n",
    "y = processed_data['Эмоция'].to_numpy()\n",
    "\n",
    "visualize_knn_analysis(X, y)"
   ]
  },
  {
   "cell_type": "markdown",
   "metadata": {
    "colab_type": "text",
    "id": "98S3GBppHn7D"
   },
   "source": [
    "По графику ошибки на обучающей выборке видно, что модель плохо обучается. На следующем этапе пробуем сократить число признаков(слов), объединив близкие по какому-либо критерию слова."
   ]
  },
  {
   "cell_type": "markdown",
   "metadata": {
    "colab_type": "text",
    "id": "EbrlFbHUIH85"
   },
   "source": [
    "#### **Оптимизация с Левенштейном**\n",
    "Пытаемся объединить близкие по расстоянию левенштейна слова."
   ]
  },
  {
   "cell_type": "markdown",
   "metadata": {
    "colab_type": "text",
    "id": "5oMf9eKzedOh"
   },
   "source": [
    "##### **Без стемминга**"
   ]
  },
  {
   "cell_type": "code",
   "execution_count": 84,
   "metadata": {
    "colab": {
     "base_uri": "https://localhost:8080/"
    },
    "colab_type": "code",
    "id": "KJOxjmdeNBOy",
    "outputId": "7c403025-9603-42d0-e02d-b8798d644dbb",
    "pycharm": {
     "is_executing": false
    }
   },
   "outputs": [
    {
     "name": "stdout",
     "text": [
      "Best set:\n",
      "Split: 80%/20%\n",
      "K: 39\n",
      "Error value: 0.5833333333333334\n"
     ],
     "output_type": "stream"
    },
    {
     "data": {
      "text/plain": "<Figure size 864x432 with 1 Axes>",
      "image/png": "[encoded data removed]"
     },
     "metadata": {
      "needs_background": "light"
     },
     "output_type": "display_data"
    },
    {
     "data": {
      "text/plain": "<Figure size 864x432 with 1 Axes>",
      "image/png": "[encoded data removed]"
     },
     "metadata": {
      "needs_background": "light"
     },
     "output_type": "display_data"
    }
   ],
   "source": [
    "from fuzzywuzzy import fuzz\n",
    "from fuzzywuzzy import process\n",
    "\n",
    "DEFAULT_THRESHOLD = 80\n",
    "\n",
    "def levenshtein_similarity(word1, word2, threshold=DEFAULT_THRESHOLD) -> bool:\n",
    "  return fuzz.WRatio(word1, word2) >= threshold\n",
    "\n",
    "X_lev = feature_optimize(X, vectorizer_count, levenshtein_similarity, stemming=False, threshold=70)\n",
    "visualize_knn_analysis(X_lev, y)"
   ]
  },
  {
   "cell_type": "markdown",
   "metadata": {
    "colab_type": "text",
    "id": "6uBw4wJzIe9k"
   },
   "source": [
    "##### **Со стеммингом**"
   ]
  },
  {
   "cell_type": "code",
   "execution_count": 85,
   "metadata": {
    "colab": {
     "base_uri": "https://localhost:8080/"
    },
    "colab_type": "code",
    "id": "V3Q9845oowvI",
    "outputId": "a5d89bec-aa8b-41b6-ecc1-b7931bf6ab8e",
    "pycharm": {
     "is_executing": false
    }
   },
   "outputs": [
    {
     "traceback": [
      "\u001b[0;31m---------------------------------------------------------------------------\u001b[0m",
      "\u001b[0;31mKeyboardInterrupt\u001b[0m                         Traceback (most recent call last)",
      "\u001b[0;32m<ipython-input-85-538a4b14dcfb>\u001b[0m in \u001b[0;36m<module>\u001b[0;34m\u001b[0m\n\u001b[0;32m----> 1\u001b[0;31m \u001b[0mX_lev_stem\u001b[0m \u001b[0;34m=\u001b[0m \u001b[0mfeature_optimize\u001b[0m\u001b[0;34m(\u001b[0m\u001b[0mX\u001b[0m\u001b[0;34m,\u001b[0m \u001b[0mvectorizer_count\u001b[0m\u001b[0;34m,\u001b[0m \u001b[0mlevenshtein_similarity\u001b[0m\u001b[0;34m,\u001b[0m \u001b[0mstemming\u001b[0m\u001b[0;34m=\u001b[0m\u001b[0;32mTrue\u001b[0m\u001b[0;34m)\u001b[0m\u001b[0;34m\u001b[0m\u001b[0;34m\u001b[0m\u001b[0m\n\u001b[0m\u001b[1;32m      2\u001b[0m \u001b[0mvisualize_knn_analysis\u001b[0m\u001b[0;34m(\u001b[0m\u001b[0mX_lev_stem\u001b[0m\u001b[0;34m,\u001b[0m \u001b[0my\u001b[0m\u001b[0;34m)\u001b[0m\u001b[0;34m\u001b[0m\u001b[0;34m\u001b[0m\u001b[0m\n\u001b[1;32m      3\u001b[0m \u001b[0;34m\u001b[0m\u001b[0m\n",
      "\u001b[0;32m<ipython-input-82-5c94892bdd9b>\u001b[0m in \u001b[0;36mfeature_optimize\u001b[0;34m(X, vectorizer, comparator, stemming, debug, **kwargs)\u001b[0m\n\u001b[1;32m     11\u001b[0m     \u001b[0mdf\u001b[0m \u001b[0;34m=\u001b[0m \u001b[0mdf\u001b[0m\u001b[0;34m.\u001b[0m\u001b[0mgroupby\u001b[0m\u001b[0;34m(\u001b[0m\u001b[0mlevel\u001b[0m\u001b[0;34m=\u001b[0m\u001b[0;36m0\u001b[0m\u001b[0;34m,\u001b[0m \u001b[0maxis\u001b[0m\u001b[0;34m=\u001b[0m\u001b[0;36m1\u001b[0m\u001b[0;34m)\u001b[0m\u001b[0;34m.\u001b[0m\u001b[0msum\u001b[0m\u001b[0;34m(\u001b[0m\u001b[0;34m)\u001b[0m\u001b[0;34m\u001b[0m\u001b[0;34m\u001b[0m\u001b[0m\n\u001b[1;32m     12\u001b[0m   \u001b[0mwords\u001b[0m \u001b[0;34m=\u001b[0m \u001b[0mlist\u001b[0m\u001b[0;34m(\u001b[0m\u001b[0mdf\u001b[0m\u001b[0;34m.\u001b[0m\u001b[0mcolumns\u001b[0m\u001b[0;34m)\u001b[0m\u001b[0;34m\u001b[0m\u001b[0;34m\u001b[0m\u001b[0m\n\u001b[0;32m---> 13\u001b[0;31m   for i, (w1, w2) in enumerate(filter(lambda word_pair: comparator(*word_pair, **kwargs), \n\u001b[0m\u001b[1;32m     14\u001b[0m                                       itertools.combinations(words, 2)), 1):\n\u001b[1;32m     15\u001b[0m     \u001b[0msimilar_col_groups\u001b[0m\u001b[0;34m[\u001b[0m\u001b[0mw1\u001b[0m\u001b[0;34m]\u001b[0m\u001b[0;34m.\u001b[0m\u001b[0madd\u001b[0m\u001b[0;34m(\u001b[0m\u001b[0mw2\u001b[0m\u001b[0;34m)\u001b[0m\u001b[0;34m\u001b[0m\u001b[0;34m\u001b[0m\u001b[0m\n",
      "\u001b[0;32m<ipython-input-82-5c94892bdd9b>\u001b[0m in \u001b[0;36m<lambda>\u001b[0;34m(word_pair)\u001b[0m\n\u001b[1;32m     11\u001b[0m     \u001b[0mdf\u001b[0m \u001b[0;34m=\u001b[0m \u001b[0mdf\u001b[0m\u001b[0;34m.\u001b[0m\u001b[0mgroupby\u001b[0m\u001b[0;34m(\u001b[0m\u001b[0mlevel\u001b[0m\u001b[0;34m=\u001b[0m\u001b[0;36m0\u001b[0m\u001b[0;34m,\u001b[0m \u001b[0maxis\u001b[0m\u001b[0;34m=\u001b[0m\u001b[0;36m1\u001b[0m\u001b[0;34m)\u001b[0m\u001b[0;34m.\u001b[0m\u001b[0msum\u001b[0m\u001b[0;34m(\u001b[0m\u001b[0;34m)\u001b[0m\u001b[0;34m\u001b[0m\u001b[0;34m\u001b[0m\u001b[0m\n\u001b[1;32m     12\u001b[0m   \u001b[0mwords\u001b[0m \u001b[0;34m=\u001b[0m \u001b[0mlist\u001b[0m\u001b[0;34m(\u001b[0m\u001b[0mdf\u001b[0m\u001b[0;34m.\u001b[0m\u001b[0mcolumns\u001b[0m\u001b[0;34m)\u001b[0m\u001b[0;34m\u001b[0m\u001b[0;34m\u001b[0m\u001b[0m\n\u001b[0;32m---> 13\u001b[0;31m   for i, (w1, w2) in enumerate(filter(lambda word_pair: comparator(*word_pair, **kwargs), \n\u001b[0m\u001b[1;32m     14\u001b[0m                                       itertools.combinations(words, 2)), 1):\n\u001b[1;32m     15\u001b[0m     \u001b[0msimilar_col_groups\u001b[0m\u001b[0;34m[\u001b[0m\u001b[0mw1\u001b[0m\u001b[0;34m]\u001b[0m\u001b[0;34m.\u001b[0m\u001b[0madd\u001b[0m\u001b[0;34m(\u001b[0m\u001b[0mw2\u001b[0m\u001b[0;34m)\u001b[0m\u001b[0;34m\u001b[0m\u001b[0;34m\u001b[0m\u001b[0m\n",
      "\u001b[0;32m<ipython-input-84-3ea27e65c9f0>\u001b[0m in \u001b[0;36mlevenshtein_similarity\u001b[0;34m(word1, word2, threshold)\u001b[0m\n\u001b[1;32m      5\u001b[0m \u001b[0;34m\u001b[0m\u001b[0m\n\u001b[1;32m      6\u001b[0m \u001b[0;32mdef\u001b[0m \u001b[0mlevenshtein_similarity\u001b[0m\u001b[0;34m(\u001b[0m\u001b[0mword1\u001b[0m\u001b[0;34m,\u001b[0m \u001b[0mword2\u001b[0m\u001b[0;34m,\u001b[0m \u001b[0mthreshold\u001b[0m\u001b[0;34m=\u001b[0m\u001b[0mDEFAULT_THRESHOLD\u001b[0m\u001b[0;34m)\u001b[0m \u001b[0;34m->\u001b[0m \u001b[0mbool\u001b[0m\u001b[0;34m:\u001b[0m\u001b[0;34m\u001b[0m\u001b[0;34m\u001b[0m\u001b[0m\n\u001b[0;32m----> 7\u001b[0;31m   \u001b[0;32mreturn\u001b[0m \u001b[0mfuzz\u001b[0m\u001b[0;34m.\u001b[0m\u001b[0mWRatio\u001b[0m\u001b[0;34m(\u001b[0m\u001b[0mword1\u001b[0m\u001b[0;34m,\u001b[0m \u001b[0mword2\u001b[0m\u001b[0;34m)\u001b[0m \u001b[0;34m>=\u001b[0m \u001b[0mthreshold\u001b[0m\u001b[0;34m\u001b[0m\u001b[0;34m\u001b[0m\u001b[0m\n\u001b[0m\u001b[1;32m      8\u001b[0m \u001b[0;34m\u001b[0m\u001b[0m\n\u001b[1;32m      9\u001b[0m \u001b[0mX_lev\u001b[0m \u001b[0;34m=\u001b[0m \u001b[0mfeature_optimize\u001b[0m\u001b[0;34m(\u001b[0m\u001b[0mX\u001b[0m\u001b[0;34m,\u001b[0m \u001b[0mvectorizer_count\u001b[0m\u001b[0;34m,\u001b[0m \u001b[0mlevenshtein_similarity\u001b[0m\u001b[0;34m,\u001b[0m \u001b[0mstemming\u001b[0m\u001b[0;34m=\u001b[0m\u001b[0;32mFalse\u001b[0m\u001b[0;34m,\u001b[0m \u001b[0mthreshold\u001b[0m\u001b[0;34m=\u001b[0m\u001b[0;36m70\u001b[0m\u001b[0;34m)\u001b[0m\u001b[0;34m\u001b[0m\u001b[0;34m\u001b[0m\u001b[0m\n",
      "\u001b[0;32m~/PycharmProjects/sentences_analysis/venv/lib/python3.8/site-packages/fuzzywuzzy/fuzz.py\u001b[0m in \u001b[0;36mWRatio\u001b[0;34m(s1, s2, force_ascii, full_process)\u001b[0m\n\u001b[1;32m    289\u001b[0m         \u001b[0mptsor\u001b[0m \u001b[0;34m=\u001b[0m \u001b[0mpartial_token_sort_ratio\u001b[0m\u001b[0;34m(\u001b[0m\u001b[0mp1\u001b[0m\u001b[0;34m,\u001b[0m \u001b[0mp2\u001b[0m\u001b[0;34m,\u001b[0m \u001b[0mfull_process\u001b[0m\u001b[0;34m=\u001b[0m\u001b[0;32mFalse\u001b[0m\u001b[0;34m)\u001b[0m\u001b[0;31m \u001b[0m\u001b[0;31m\\\u001b[0m\u001b[0;34m\u001b[0m\u001b[0;34m\u001b[0m\u001b[0m\n\u001b[1;32m    290\u001b[0m             \u001b[0;34m*\u001b[0m \u001b[0munbase_scale\u001b[0m \u001b[0;34m*\u001b[0m \u001b[0mpartial_scale\u001b[0m\u001b[0;34m\u001b[0m\u001b[0;34m\u001b[0m\u001b[0m\n\u001b[0;32m--> 291\u001b[0;31m         \u001b[0mptser\u001b[0m \u001b[0;34m=\u001b[0m \u001b[0mpartial_token_set_ratio\u001b[0m\u001b[0;34m(\u001b[0m\u001b[0mp1\u001b[0m\u001b[0;34m,\u001b[0m \u001b[0mp2\u001b[0m\u001b[0;34m,\u001b[0m \u001b[0mfull_process\u001b[0m\u001b[0;34m=\u001b[0m\u001b[0;32mFalse\u001b[0m\u001b[0;34m)\u001b[0m\u001b[0;31m \u001b[0m\u001b[0;31m\\\u001b[0m\u001b[0;34m\u001b[0m\u001b[0;34m\u001b[0m\u001b[0m\n\u001b[0m\u001b[1;32m    292\u001b[0m             \u001b[0;34m*\u001b[0m \u001b[0munbase_scale\u001b[0m \u001b[0;34m*\u001b[0m \u001b[0mpartial_scale\u001b[0m\u001b[0;34m\u001b[0m\u001b[0;34m\u001b[0m\u001b[0m\n\u001b[1;32m    293\u001b[0m \u001b[0;34m\u001b[0m\u001b[0m\n",
      "\u001b[0;32m~/PycharmProjects/sentences_analysis/venv/lib/python3.8/site-packages/fuzzywuzzy/fuzz.py\u001b[0m in \u001b[0;36mpartial_token_set_ratio\u001b[0;34m(s1, s2, force_ascii, full_process)\u001b[0m\n\u001b[1;32m    171\u001b[0m \u001b[0;34m\u001b[0m\u001b[0m\n\u001b[1;32m    172\u001b[0m \u001b[0;32mdef\u001b[0m \u001b[0mpartial_token_set_ratio\u001b[0m\u001b[0;34m(\u001b[0m\u001b[0ms1\u001b[0m\u001b[0;34m,\u001b[0m \u001b[0ms2\u001b[0m\u001b[0;34m,\u001b[0m \u001b[0mforce_ascii\u001b[0m\u001b[0;34m=\u001b[0m\u001b[0;32mTrue\u001b[0m\u001b[0;34m,\u001b[0m \u001b[0mfull_process\u001b[0m\u001b[0;34m=\u001b[0m\u001b[0;32mTrue\u001b[0m\u001b[0;34m)\u001b[0m\u001b[0;34m:\u001b[0m\u001b[0;34m\u001b[0m\u001b[0;34m\u001b[0m\u001b[0m\n\u001b[0;32m--> 173\u001b[0;31m     \u001b[0;32mreturn\u001b[0m \u001b[0m_token_set\u001b[0m\u001b[0;34m(\u001b[0m\u001b[0ms1\u001b[0m\u001b[0;34m,\u001b[0m \u001b[0ms2\u001b[0m\u001b[0;34m,\u001b[0m \u001b[0mpartial\u001b[0m\u001b[0;34m=\u001b[0m\u001b[0;32mTrue\u001b[0m\u001b[0;34m,\u001b[0m \u001b[0mforce_ascii\u001b[0m\u001b[0;34m=\u001b[0m\u001b[0mforce_ascii\u001b[0m\u001b[0;34m,\u001b[0m \u001b[0mfull_process\u001b[0m\u001b[0;34m=\u001b[0m\u001b[0mfull_process\u001b[0m\u001b[0;34m)\u001b[0m\u001b[0;34m\u001b[0m\u001b[0;34m\u001b[0m\u001b[0m\n\u001b[0m\u001b[1;32m    174\u001b[0m \u001b[0;34m\u001b[0m\u001b[0m\n\u001b[1;32m    175\u001b[0m \u001b[0;34m\u001b[0m\u001b[0m\n",
      "\u001b[0;32m~/PycharmProjects/sentences_analysis/venv/lib/python3.8/site-packages/fuzzywuzzy/utils.py\u001b[0m in \u001b[0;36mdecorator\u001b[0;34m(*args, **kwargs)\u001b[0m\n\u001b[1;32m     36\u001b[0m         \u001b[0;32mif\u001b[0m \u001b[0margs\u001b[0m\u001b[0;34m[\u001b[0m\u001b[0;36m0\u001b[0m\u001b[0;34m]\u001b[0m \u001b[0;32mis\u001b[0m \u001b[0;32mNone\u001b[0m \u001b[0;32mor\u001b[0m \u001b[0margs\u001b[0m\u001b[0;34m[\u001b[0m\u001b[0;36m1\u001b[0m\u001b[0;34m]\u001b[0m \u001b[0;32mis\u001b[0m \u001b[0;32mNone\u001b[0m\u001b[0;34m:\u001b[0m\u001b[0;34m\u001b[0m\u001b[0;34m\u001b[0m\u001b[0m\n\u001b[1;32m     37\u001b[0m             \u001b[0;32mreturn\u001b[0m \u001b[0;36m0\u001b[0m\u001b[0;34m\u001b[0m\u001b[0;34m\u001b[0m\u001b[0m\n\u001b[0;32m---> 38\u001b[0;31m         \u001b[0;32mreturn\u001b[0m \u001b[0mfunc\u001b[0m\u001b[0;34m(\u001b[0m\u001b[0;34m*\u001b[0m\u001b[0margs\u001b[0m\u001b[0;34m,\u001b[0m \u001b[0;34m**\u001b[0m\u001b[0mkwargs\u001b[0m\u001b[0;34m)\u001b[0m\u001b[0;34m\u001b[0m\u001b[0;34m\u001b[0m\u001b[0m\n\u001b[0m\u001b[1;32m     39\u001b[0m     \u001b[0;32mreturn\u001b[0m \u001b[0mdecorator\u001b[0m\u001b[0;34m\u001b[0m\u001b[0;34m\u001b[0m\u001b[0m\n\u001b[1;32m     40\u001b[0m \u001b[0;34m\u001b[0m\u001b[0m\n",
      "\u001b[0;32m~/PycharmProjects/sentences_analysis/venv/lib/python3.8/site-packages/fuzzywuzzy/fuzz.py\u001b[0m in \u001b[0;36m_token_set\u001b[0;34m(s1, s2, partial, force_ascii, full_process)\u001b[0m\n\u001b[1;32m    161\u001b[0m         \u001b[0mratio_func\u001b[0m\u001b[0;34m(\u001b[0m\u001b[0msorted_sect\u001b[0m\u001b[0;34m,\u001b[0m \u001b[0mcombined_1to2\u001b[0m\u001b[0;34m)\u001b[0m\u001b[0;34m,\u001b[0m\u001b[0;34m\u001b[0m\u001b[0;34m\u001b[0m\u001b[0m\n\u001b[1;32m    162\u001b[0m         \u001b[0mratio_func\u001b[0m\u001b[0;34m(\u001b[0m\u001b[0msorted_sect\u001b[0m\u001b[0;34m,\u001b[0m \u001b[0mcombined_2to1\u001b[0m\u001b[0;34m)\u001b[0m\u001b[0;34m,\u001b[0m\u001b[0;34m\u001b[0m\u001b[0;34m\u001b[0m\u001b[0m\n\u001b[0;32m--> 163\u001b[0;31m         \u001b[0mratio_func\u001b[0m\u001b[0;34m(\u001b[0m\u001b[0mcombined_1to2\u001b[0m\u001b[0;34m,\u001b[0m \u001b[0mcombined_2to1\u001b[0m\u001b[0;34m)\u001b[0m\u001b[0;34m\u001b[0m\u001b[0;34m\u001b[0m\u001b[0m\n\u001b[0m\u001b[1;32m    164\u001b[0m     ]\n\u001b[1;32m    165\u001b[0m     \u001b[0;32mreturn\u001b[0m \u001b[0mmax\u001b[0m\u001b[0;34m(\u001b[0m\u001b[0mpairwise\u001b[0m\u001b[0;34m)\u001b[0m\u001b[0;34m\u001b[0m\u001b[0;34m\u001b[0m\u001b[0m\n",
      "\u001b[0;32m~/PycharmProjects/sentences_analysis/venv/lib/python3.8/site-packages/fuzzywuzzy/utils.py\u001b[0m in \u001b[0;36mdecorator\u001b[0;34m(*args, **kwargs)\u001b[0m\n\u001b[1;32m     36\u001b[0m         \u001b[0;32mif\u001b[0m \u001b[0margs\u001b[0m\u001b[0;34m[\u001b[0m\u001b[0;36m0\u001b[0m\u001b[0;34m]\u001b[0m \u001b[0;32mis\u001b[0m \u001b[0;32mNone\u001b[0m \u001b[0;32mor\u001b[0m \u001b[0margs\u001b[0m\u001b[0;34m[\u001b[0m\u001b[0;36m1\u001b[0m\u001b[0;34m]\u001b[0m \u001b[0;32mis\u001b[0m \u001b[0;32mNone\u001b[0m\u001b[0;34m:\u001b[0m\u001b[0;34m\u001b[0m\u001b[0;34m\u001b[0m\u001b[0m\n\u001b[1;32m     37\u001b[0m             \u001b[0;32mreturn\u001b[0m \u001b[0;36m0\u001b[0m\u001b[0;34m\u001b[0m\u001b[0;34m\u001b[0m\u001b[0m\n\u001b[0;32m---> 38\u001b[0;31m         \u001b[0;32mreturn\u001b[0m \u001b[0mfunc\u001b[0m\u001b[0;34m(\u001b[0m\u001b[0;34m*\u001b[0m\u001b[0margs\u001b[0m\u001b[0;34m,\u001b[0m \u001b[0;34m**\u001b[0m\u001b[0mkwargs\u001b[0m\u001b[0;34m)\u001b[0m\u001b[0;34m\u001b[0m\u001b[0;34m\u001b[0m\u001b[0m\n\u001b[0m\u001b[1;32m     39\u001b[0m     \u001b[0;32mreturn\u001b[0m \u001b[0mdecorator\u001b[0m\u001b[0;34m\u001b[0m\u001b[0;34m\u001b[0m\u001b[0m\n\u001b[1;32m     40\u001b[0m \u001b[0;34m\u001b[0m\u001b[0m\n",
      "\u001b[0;32m~/PycharmProjects/sentences_analysis/venv/lib/python3.8/site-packages/fuzzywuzzy/utils.py\u001b[0m in \u001b[0;36mdecorator\u001b[0;34m(*args, **kwargs)\u001b[0m\n\u001b[1;32m     27\u001b[0m         \u001b[0;32mif\u001b[0m \u001b[0margs\u001b[0m\u001b[0;34m[\u001b[0m\u001b[0;36m0\u001b[0m\u001b[0;34m]\u001b[0m \u001b[0;34m==\u001b[0m \u001b[0margs\u001b[0m\u001b[0;34m[\u001b[0m\u001b[0;36m1\u001b[0m\u001b[0;34m]\u001b[0m\u001b[0;34m:\u001b[0m\u001b[0;34m\u001b[0m\u001b[0;34m\u001b[0m\u001b[0m\n\u001b[1;32m     28\u001b[0m             \u001b[0;32mreturn\u001b[0m \u001b[0;36m100\u001b[0m\u001b[0;34m\u001b[0m\u001b[0;34m\u001b[0m\u001b[0m\n\u001b[0;32m---> 29\u001b[0;31m         \u001b[0;32mreturn\u001b[0m \u001b[0mfunc\u001b[0m\u001b[0;34m(\u001b[0m\u001b[0;34m*\u001b[0m\u001b[0margs\u001b[0m\u001b[0;34m,\u001b[0m \u001b[0;34m**\u001b[0m\u001b[0mkwargs\u001b[0m\u001b[0;34m)\u001b[0m\u001b[0;34m\u001b[0m\u001b[0;34m\u001b[0m\u001b[0m\n\u001b[0m\u001b[1;32m     30\u001b[0m     \u001b[0;32mreturn\u001b[0m \u001b[0mdecorator\u001b[0m\u001b[0;34m\u001b[0m\u001b[0;34m\u001b[0m\u001b[0m\n\u001b[1;32m     31\u001b[0m \u001b[0;34m\u001b[0m\u001b[0m\n",
      "\u001b[0;32m~/PycharmProjects/sentences_analysis/venv/lib/python3.8/site-packages/fuzzywuzzy/utils.py\u001b[0m in \u001b[0;36mdecorator\u001b[0;34m(*args, **kwargs)\u001b[0m\n\u001b[1;32m     45\u001b[0m         \u001b[0;32mif\u001b[0m \u001b[0mlen\u001b[0m\u001b[0;34m(\u001b[0m\u001b[0margs\u001b[0m\u001b[0;34m[\u001b[0m\u001b[0;36m0\u001b[0m\u001b[0;34m]\u001b[0m\u001b[0;34m)\u001b[0m \u001b[0;34m==\u001b[0m \u001b[0;36m0\u001b[0m \u001b[0;32mor\u001b[0m \u001b[0mlen\u001b[0m\u001b[0;34m(\u001b[0m\u001b[0margs\u001b[0m\u001b[0;34m[\u001b[0m\u001b[0;36m1\u001b[0m\u001b[0;34m]\u001b[0m\u001b[0;34m)\u001b[0m \u001b[0;34m==\u001b[0m \u001b[0;36m0\u001b[0m\u001b[0;34m:\u001b[0m\u001b[0;34m\u001b[0m\u001b[0;34m\u001b[0m\u001b[0m\n\u001b[1;32m     46\u001b[0m             \u001b[0;32mreturn\u001b[0m \u001b[0;36m0\u001b[0m\u001b[0;34m\u001b[0m\u001b[0;34m\u001b[0m\u001b[0m\n\u001b[0;32m---> 47\u001b[0;31m         \u001b[0;32mreturn\u001b[0m \u001b[0mfunc\u001b[0m\u001b[0;34m(\u001b[0m\u001b[0;34m*\u001b[0m\u001b[0margs\u001b[0m\u001b[0;34m,\u001b[0m \u001b[0;34m**\u001b[0m\u001b[0mkwargs\u001b[0m\u001b[0;34m)\u001b[0m\u001b[0;34m\u001b[0m\u001b[0;34m\u001b[0m\u001b[0m\n\u001b[0m\u001b[1;32m     48\u001b[0m     \u001b[0;32mreturn\u001b[0m \u001b[0mdecorator\u001b[0m\u001b[0;34m\u001b[0m\u001b[0;34m\u001b[0m\u001b[0m\n\u001b[1;32m     49\u001b[0m \u001b[0;34m\u001b[0m\u001b[0m\n",
      "\u001b[0;32m~/PycharmProjects/sentences_analysis/venv/lib/python3.8/site-packages/fuzzywuzzy/fuzz.py\u001b[0m in \u001b[0;36mpartial_ratio\u001b[0;34m(s1, s2)\u001b[0m\n\u001b[1;32m     45\u001b[0m \u001b[0;34m\u001b[0m\u001b[0m\n\u001b[1;32m     46\u001b[0m     \u001b[0mm\u001b[0m \u001b[0;34m=\u001b[0m \u001b[0mSequenceMatcher\u001b[0m\u001b[0;34m(\u001b[0m\u001b[0;32mNone\u001b[0m\u001b[0;34m,\u001b[0m \u001b[0mshorter\u001b[0m\u001b[0;34m,\u001b[0m \u001b[0mlonger\u001b[0m\u001b[0;34m)\u001b[0m\u001b[0;34m\u001b[0m\u001b[0;34m\u001b[0m\u001b[0m\n\u001b[0;32m---> 47\u001b[0;31m     \u001b[0mblocks\u001b[0m \u001b[0;34m=\u001b[0m \u001b[0mm\u001b[0m\u001b[0;34m.\u001b[0m\u001b[0mget_matching_blocks\u001b[0m\u001b[0;34m(\u001b[0m\u001b[0;34m)\u001b[0m\u001b[0;34m\u001b[0m\u001b[0;34m\u001b[0m\u001b[0m\n\u001b[0m\u001b[1;32m     48\u001b[0m \u001b[0;34m\u001b[0m\u001b[0m\n\u001b[1;32m     49\u001b[0m     \u001b[0;31m# each block represents a sequence of matching characters in a string\u001b[0m\u001b[0;34m\u001b[0m\u001b[0;34m\u001b[0m\u001b[0;34m\u001b[0m\u001b[0m\n",
      "\u001b[0;32m~/PycharmProjects/sentences_analysis/venv/lib/python3.8/site-packages/fuzzywuzzy/StringMatcher.py\u001b[0m in \u001b[0;36mget_matching_blocks\u001b[0;34m(self)\u001b[0m\n\u001b[1;32m     56\u001b[0m     \u001b[0;32mdef\u001b[0m \u001b[0mget_matching_blocks\u001b[0m\u001b[0;34m(\u001b[0m\u001b[0mself\u001b[0m\u001b[0;34m)\u001b[0m\u001b[0;34m:\u001b[0m\u001b[0;34m\u001b[0m\u001b[0;34m\u001b[0m\u001b[0m\n\u001b[1;32m     57\u001b[0m         \u001b[0;32mif\u001b[0m \u001b[0;32mnot\u001b[0m \u001b[0mself\u001b[0m\u001b[0;34m.\u001b[0m\u001b[0m_matching_blocks\u001b[0m\u001b[0;34m:\u001b[0m\u001b[0;34m\u001b[0m\u001b[0;34m\u001b[0m\u001b[0m\n\u001b[0;32m---> 58\u001b[0;31m             self._matching_blocks = matching_blocks(self.get_opcodes(),\n\u001b[0m\u001b[1;32m     59\u001b[0m                                                     self._str1, self._str2)\n\u001b[1;32m     60\u001b[0m         \u001b[0;32mreturn\u001b[0m \u001b[0mself\u001b[0m\u001b[0;34m.\u001b[0m\u001b[0m_matching_blocks\u001b[0m\u001b[0;34m\u001b[0m\u001b[0;34m\u001b[0m\u001b[0m\n",
      "\u001b[0;31mKeyboardInterrupt\u001b[0m: "
     ],
     "ename": "KeyboardInterrupt",
     "evalue": "",
     "output_type": "error"
    }
   ],
   "source": [
    "X_lev_stem = feature_optimize(X, vectorizer_count, levenshtein_similarity, stemming=True)\n",
    "visualize_knn_analysis(X_lev_stem, y)"
   ]
  },
  {
   "cell_type": "markdown",
   "metadata": {
    "colab_type": "text",
    "id": "08jZPm4GeNRE"
   },
   "source": [
    "#### **Оптимизация с n-grams**\n",
    "Попробуем сравнивать слова по наличию между общих n-gramm (используя только одно n)"
   ]
  },
  {
   "cell_type": "markdown",
   "metadata": {
    "colab_type": "text",
    "id": "e9Rrbiwpe91F"
   },
   "source": [
    "##### **Без стемминга**"
   ]
  },
  {
   "cell_type": "code",
   "execution_count": null,
   "metadata": {
    "colab": {
     "base_uri": "https://localhost:8080/"
    },
    "colab_type": "code",
    "id": "HefKBizx2ngZ",
    "outputId": "55a62e67-02db-4df0-b7a4-d62a0c4ffa36",
    "pycharm": {
     "is_executing": false,
     "name": "#%%\n"
    }
   },
   "outputs": [],
   "source": [
    "from nltk import ngrams\n",
    "\n",
    "DEFAULT_NGRAM_SIZE = 3\n",
    "\n",
    "def ngrams_eq_single_n(word1, word2, n=DEFAULT_NGRAM_SIZE):\n",
    "  ng1, ng2 = list(ngrams(word1, n)), list(ngrams(word2, n))\n",
    "  ngs_count = len(ng1) + len(ng2)\n",
    "  diff = len(set(ng1).symmetric_difference(set(ng2)))\n",
    "  if ngs_count == 0:\n",
    "    return 0\n",
    "  return 1 - diff/ngs_count\n",
    "\n",
    "\n",
    "X_ng_single = feature_optimize(X, vectorizer_count, ngrams_eq_single_n)\n",
    "visualize_knn_analysis(X_ng_single, y)\n"
   ]
  },
  {
   "cell_type": "markdown",
   "metadata": {
    "colab_type": "text",
    "id": "Dq_WQ-GCfHUt"
   },
   "source": [
    "##### **Со стеммингом**"
   ]
  },
  {
   "cell_type": "code",
   "execution_count": null,
   "metadata": {
    "colab": {
     "base_uri": "https://localhost:8080/"
    },
    "colab_type": "code",
    "id": "YkzDeJ1gMveL",
    "outputId": "9c2dfbf4-8cda-4e8d-b3f8-0c5eb2dd5a72",
    "pycharm": {
     "is_executing": false
    }
   },
   "outputs": [],
   "source": [
    "X_ng_single_stem = feature_optimize(X, vectorizer_count, ngrams_eq_single_n, stemming=True)\n",
    "visualize_knn_analysis(X_ng_single_stem, y)"
   ]
  },
  {
   "cell_type": "markdown",
   "metadata": {
    "colab_type": "text",
    "id": "JJgb9oV0ff9L"
   },
   "source": [
    "#### **Оптимизация с n-grams (усреднённая)**\n",
    "В качестве эксперимента попрбуем смотреть на усреднённую схожесть слов, возвращаемую через анализ определённых n-gramm."
   ]
  },
  {
   "cell_type": "markdown",
   "metadata": {
    "colab_type": "text",
    "id": "xpv1U0xkhCBr"
   },
   "source": [
    "##### **Без стемминга**"
   ]
  },
  {
   "cell_type": "code",
   "execution_count": null,
   "metadata": {
    "colab": {
     "base_uri": "https://localhost:8080/"
    },
    "colab_type": "code",
    "id": "-nUjX1rohngf",
    "outputId": "78e3fe55-8cc8-4d37-c617-8212bf72aa6a",
    "pycharm": {
     "is_executing": false
    }
   },
   "outputs": [],
   "source": [
    "import statistics\n",
    "\n",
    "DEFAULT_BASE_NGRAM_SIZE = 3\n",
    "\n",
    "def ngrams_eq_multi(w1, w2, n=DEFAULT_BASE_NGRAM_SIZE):\n",
    "  return statistics.mean(ngrams_eq_single_n(w1, w2, i) for i in range(1, n+1))\n",
    "\n",
    "\n",
    "X_ng_several_mean = feature_optimize(X, vectorizer_count, ngrams_eq_multi)\n",
    "visualize_knn_analysis(X_ng_several_mean, y)"
   ]
  },
  {
   "cell_type": "markdown",
   "metadata": {
    "colab_type": "text",
    "id": "HMUFflUvhHtU"
   },
   "source": [
    "##### **Со стеммингом**"
   ]
  },
  {
   "cell_type": "code",
   "execution_count": null,
   "metadata": {
    "colab": {
     "base_uri": "https://localhost:8080/"
    },
    "colab_type": "code",
    "id": "9PibeCdljsP0",
    "outputId": "7d7717e2-58f4-41c7-9592-92a4b570b808",
    "pycharm": {
     "is_executing": false
    }
   },
   "outputs": [],
   "source": [
    "X_ng_several_mean_stem = feature_optimize(X, vectorizer_count, ngrams_eq_multi, stemming=True)\n",
    "visualize_knn_analysis(X_ng_several_mean_stem, y)"
   ]
  },
  {
   "cell_type": "markdown",
   "metadata": {
    "colab_type": "text",
    "id": "2DmCbEpphOf-"
   },
   "source": [
    "#### **Оптимизация с n-grams (взвешенная)**\n",
    "\n",
    "Понятно, что схожесть по буквам имеет мало ценности, поэтому попробуем уменьшать вес схожести по малым n-grams"
   ]
  },
  {
   "cell_type": "markdown",
   "metadata": {
    "colab_type": "text",
    "id": "rFB9tn-tiexp"
   },
   "source": [
    "##### **Без стемминга**"
   ]
  },
  {
   "cell_type": "code",
   "execution_count": null,
   "metadata": {
    "colab": {
     "base_uri": "https://localhost:8080/"
    },
    "colab_type": "code",
    "id": "b01libLMNPVB",
    "outputId": "b5f00933-89ae-41c8-a752-e91240c2af3d",
    "pycharm": {
     "is_executing": false
    }
   },
   "outputs": [],
   "source": [
    "DEFAULT_MAX_NGRAM_SIZE = 3\n",
    "\n",
    "def ngram_eq_multi_weighted(w1, w2, n=DEFAULT_MAX_NGRAM_SIZE):\n",
    "  def inner(w1, w2, ni):\n",
    "    ng1, ng2 = list(ngrams(w1, ni)), list(ngrams(w2, ni))\n",
    "    ngs_count = len(ng1) + len(ng2)\n",
    "    diff = len(set(ng1).symmetric_difference(set(ng2)))\n",
    "    return diff, ngs_count\n",
    "  res = [inner(w1, w2, i) for i in range(1, n+1)]\n",
    "  # return 1 - sum(dif_i for dif_i, all_i in res) / sum(all_i for dif_i, all_i in res)\n",
    "  return sum((1 - dif_i/all_i)*(0.1**(n-i)) if all_i > 0 else 0 for i, (dif_i, all_i) in enumerate(res, 1))\n",
    "\n",
    "\n",
    "X_ng_multi = feature_optimize(X, vectorizer_count, ngram_eq_multi_weighted)\n",
    "visualize_knn_analysis(X_ng_multi, y)"
   ]
  },
  {
   "cell_type": "markdown",
   "metadata": {
    "colab_type": "text",
    "id": "ryMw5Mj7imNU"
   },
   "source": [
    "##### **Со стеммингом**"
   ]
  },
  {
   "cell_type": "code",
   "execution_count": null,
   "metadata": {
    "colab": {
     "base_uri": "https://localhost:8080/"
    },
    "colab_type": "code",
    "id": "y3kEllZWNct0",
    "outputId": "c66ff4a6-2249-4990-a378-7a3dc0d1fc4a",
    "pycharm": {
     "is_executing": false
    }
   },
   "outputs": [],
   "source": [
    "X_ng_multi_n4 = feature_optimize(X, vectorizer_count, ngram_eq_multi_weighted, n=4)\n",
    "visualize_knn_analysis(X_ng_multi_n4, y)"
   ]
  },
  {
   "cell_type": "markdown",
   "metadata": {
    "colab_type": "text",
    "id": "2O-dPGI_2ngj"
   },
   "source": [
    "### **5.2 TF-IDF + KNN**"
   ]
  },
  {
   "cell_type": "markdown",
   "metadata": {
    "colab_type": "text",
    "id": "T-VAfc7U80LI"
   },
   "source": [
    "#### **Baseline**"
   ]
  },
  {
   "cell_type": "code",
   "execution_count": null,
   "metadata": {
    "colab": {
     "base_uri": "https://localhost:8080/"
    },
    "colab_type": "code",
    "id": "PC0x3uHQ2ngl",
    "outputId": "a2692f49-4aab-4e8a-b1ed-d1b6886da30d",
    "pycharm": {
     "is_executing": false,
     "name": "#%%\n"
    }
   },
   "outputs": [],
   "source": [
    "Xt = tfidf_vec_matrix\n",
    "yt = processed_data['Эмоция'].to_numpy()\n",
    "\n",
    "visualize_knn_analysis(Xt, yt)"
   ]
  },
  {
   "cell_type": "markdown",
   "metadata": {
    "colab_type": "text",
    "id": "D6JcRpRG9HYY"
   },
   "source": [
    "#### **Оптимизация с Левенштейном**\n",
    "Пытаемся объединить близкие по расстоянию левенштейна слова."
   ]
  },
  {
   "cell_type": "markdown",
   "metadata": {
    "colab_type": "text",
    "id": "QwPL4kwd9LMQ"
   },
   "source": [
    "##### **Без стемминга**"
   ]
  },
  {
   "cell_type": "code",
   "execution_count": null,
   "metadata": {
    "colab": {
     "base_uri": "https://localhost:8080/"
    },
    "colab_type": "code",
    "id": "GTJcjHjuOk2h",
    "outputId": "9ad00e21-4c97-40b0-92cf-af20021fe599",
    "pycharm": {
     "is_executing": false
    }
   },
   "outputs": [],
   "source": [
    "Xt_lev = feature_optimize(Xt, vectorizer_tfidf, levenshtein_similarity, stemming=False, threshold=70)\n",
    "visualize_knn_analysis(Xt_lev, yt)"
   ]
  },
  {
   "cell_type": "markdown",
   "metadata": {
    "colab_type": "text",
    "id": "XDOL_fji9qvl"
   },
   "source": [
    "##### **Со стеммингом**"
   ]
  },
  {
   "cell_type": "code",
   "execution_count": null,
   "metadata": {
    "colab": {
     "base_uri": "https://localhost:8080/"
    },
    "colab_type": "code",
    "id": "RieKQCJfP2Ma",
    "outputId": "56c55d54-6812-49fe-9cf7-b5c32701f6ff",
    "pycharm": {
     "is_executing": false
    }
   },
   "outputs": [],
   "source": [
    "Xt_lev_stem = feature_optimize(Xt, vectorizer_tfidf, levenshtein_similarity, stemming=True, threshold=70)\n",
    "visualize_knn_analysis(Xt_lev_stem, yt)"
   ]
  },
  {
   "cell_type": "markdown",
   "metadata": {
    "colab_type": "text",
    "id": "Lo2prfkf9VYK"
   },
   "source": [
    "#### **Оптимизация с n-grams**\n",
    "Попробуем сравнивать слова по наличию между общих n-gramm (используя только одно n)"
   ]
  },
  {
   "cell_type": "markdown",
   "metadata": {
    "colab_type": "text",
    "id": "2WiRxKSD9lts"
   },
   "source": [
    "##### **Без стемминга**"
   ]
  },
  {
   "cell_type": "code",
   "execution_count": null,
   "metadata": {
    "colab": {
     "base_uri": "https://localhost:8080/"
    },
    "colab_type": "code",
    "id": "Zkv55QF8P2cv",
    "outputId": "87a670f4-0ef3-4e2f-889c-d27b2325143d",
    "pycharm": {
     "is_executing": false
    }
   },
   "outputs": [],
   "source": [
    "Xt_ng_single = feature_optimize(Xt, vectorizer_tfidf, ngrams_eq_single_n)\n",
    "visualize_knn_analysis(Xt_ng_single, yt)"
   ]
  },
  {
   "cell_type": "markdown",
   "metadata": {
    "colab_type": "text",
    "id": "V3p66x2H9r3Y"
   },
   "source": [
    "##### **Со стеммингом**"
   ]
  },
  {
   "cell_type": "code",
   "execution_count": null,
   "metadata": {
    "colab": {
     "base_uri": "https://localhost:8080/"
    },
    "colab_type": "code",
    "id": "VpJcH3YCP2nL",
    "outputId": "354c5350-13a9-45d9-f589-1f43fb342188",
    "pycharm": {
     "is_executing": false
    }
   },
   "outputs": [],
   "source": [
    "Xt_ng_single_stem = feature_optimize(Xt, vectorizer_tfidf, ngrams_eq_single_n)\n",
    "visualize_knn_analysis(Xt_ng_single_stem, yt)"
   ]
  },
  {
   "cell_type": "markdown",
   "metadata": {
    "colab_type": "text",
    "id": "gcbHUO3X9eC5"
   },
   "source": [
    "#### **Оптимизация с n-grams (усреднённая)**\n",
    "В качестве эксперимента попрбуем смотреть на усреднённую схожесть слов, возвращаемую через анализ определённых n-gramm."
   ]
  },
  {
   "cell_type": "markdown",
   "metadata": {
    "colab_type": "text",
    "id": "4BYwtJ709mtw"
   },
   "source": [
    "##### **Без стемминга**"
   ]
  },
  {
   "cell_type": "code",
   "execution_count": null,
   "metadata": {
    "colab": {
     "base_uri": "https://localhost:8080/"
    },
    "colab_type": "code",
    "id": "FwM8VS4_94hT",
    "outputId": "51f9089d-6301-460e-bc44-ff1ff7559472",
    "pycharm": {
     "is_executing": false
    }
   },
   "outputs": [],
   "source": [
    "Xt_ng_several_mean = feature_optimize(Xt, vectorizer_tfidf, ngrams_eq_multi)\n",
    "visualize_knn_analysis(Xt_ng_several_mean, yt)"
   ]
  },
  {
   "cell_type": "markdown",
   "metadata": {
    "colab_type": "text",
    "id": "Gh4pFj3r9tk1"
   },
   "source": [
    "##### **Со стеммингом**"
   ]
  },
  {
   "cell_type": "code",
   "execution_count": null,
   "metadata": {
    "colab": {
     "base_uri": "https://localhost:8080/"
    },
    "colab_type": "code",
    "id": "0o98kHwV-DlW",
    "outputId": "517b1574-1040-4547-a3c4-3245390dd8e6",
    "pycharm": {
     "is_executing": false
    }
   },
   "outputs": [],
   "source": [
    "Xt_ng_several_mean_stem = feature_optimize(Xt, vectorizer_tfidf, ngrams_eq_multi, stemming=True)\n",
    "visualize_knn_analysis(X_ng_several_mean_stem, yt)"
   ]
  },
  {
   "cell_type": "markdown",
   "metadata": {
    "colab_type": "text",
    "id": "q3iFTqfz9hoI"
   },
   "source": [
    "#### **Оптимизация с n-grams (взвешенная)**\n",
    "\n",
    "Понятно, что схожесть по буквам имеет мало ценности, поэтому попробуем уменьшать вес схожести по малым n-grams"
   ]
  },
  {
   "cell_type": "markdown",
   "metadata": {
    "colab_type": "text",
    "id": "laJv3XkO9nNL"
   },
   "source": [
    "##### **Без стемминга**"
   ]
  },
  {
   "cell_type": "code",
   "execution_count": null,
   "metadata": {
    "colab": {
     "base_uri": "https://localhost:8080/"
    },
    "colab_type": "code",
    "id": "2iRrKUGS-LXO",
    "outputId": "fa379957-2d3e-4b89-d478-1077ab7b7327",
    "pycharm": {
     "is_executing": false
    }
   },
   "outputs": [],
   "source": [
    "n = 4\n",
    "\n",
    "Xt_ng_multi = feature_optimize(Xt, vectorizer_tfidf, ngram_eq_multi_weighted, n=n)\n",
    "visualize_knn_analysis(X_ng_multi, yt)"
   ]
  },
  {
   "cell_type": "markdown",
   "metadata": {
    "colab_type": "text",
    "id": "g1QHGINT9uQQ"
   },
   "source": [
    "##### **Со стеммингом**"
   ]
  },
  {
   "cell_type": "code",
   "execution_count": null,
   "metadata": {
    "colab": {
     "base_uri": "https://localhost:8080/"
    },
    "colab_type": "code",
    "id": "GGUCebg-P2yn",
    "outputId": "efe10696-d5f4-443d-d8f8-a27d8d18ac2b",
    "pycharm": {
     "is_executing": false
    }
   },
   "outputs": [],
   "source": [
    "Xt_ng_multi_stem = feature_optimize(Xt, vectorizer_tfidf, ngram_eq_multi_weighted, n=n, stemming=True)\n",
    "visualize_knn_analysis(Xt_ng_multi_stem, yt)"
   ]
  },
  {
   "cell_type": "markdown",
   "metadata": {
    "pycharm": {
     "name": "#%% md\n"
    }
   },
   "source": [
    "#### **Оптимизация с WordToVec**\n",
    "Пытаемся объединить близкие по смыслу слова.\n",
    "Используем корпус *tayga_none_fasttextcbow_300_10_2019*"
   ]
  },
  {
   "cell_type": "code",
   "execution_count": 15,
   "metadata": {
    "pycharm": {
     "is_executing": false,
     "name": "#%%\n"
    }
   },
   "outputs": [],
   "source": [
    "import gensim\n",
    "from gensim.models import Word2Vec\n",
    "\n",
    "model = gensim.models.KeyedVectors.load('data/corpus/model.model')\n",
    "\n",
    "def are_words_close(word1, word2, threshold=0.5):\n",
    "    return True if model.wv.similarity(word1, word2) > threshold else False"
   ]
  },
  {
   "cell_type": "code",
   "execution_count": 16,
   "metadata": {
    "pycharm": {
     "is_executing": false,
     "name": "#%%\n"
    }
   },
   "outputs": [],
   "source": [
    "from typing import List, Iterable, Dict, Tuple\n",
    "\n",
    "from sklearn.model_selection import train_test_split\n",
    "from sklearn.neighbors import KNeighborsClassifier\n",
    "from sklearn.metrics import f1_score, accuracy_score\n",
    "\n",
    "DEFAULT_COLORS = ['red', 'green', 'orange', 'purple', 'blue', 'gray', 'pink']\n",
    "DEFAULT_SPLITS = [0.20, 0.30, 0.40, 0.50]\n",
    "\n",
    "def get_colors(n):\n",
    "  colors = DEFAULT_COLORS[:n]\n",
    "  if n > len(DEFAULT_COLORS):\n",
    "    import matplotlib, random\n",
    "    all_colours = matplotlib.colors.get_named_colors_mapping()\n",
    "    colors.extend(random.choices(all_colours, k=n-len(DEFAULT_COLORS)))\n",
    "  return colors\n",
    "\n",
    "def _knn_analysis(X, y, splits, k_interval) -> Tuple[List[List[float]], List[List[float]], Dict[str, int]]:\n",
    "  error_over_splits_train = []\n",
    "  error_over_splits_test = []\n",
    "  best_result = {'split': 0, 'k': 0, 'error': 1}\n",
    "  for split in splits:\n",
    "    X_train, X_test, y_train, y_test = train_test_split(X, y, test_size=split)\n",
    "    #---------------------\n",
    "    # here could be scaler\n",
    "    #---------------------\n",
    "    # Comparing Error Rate with the K Value\n",
    "    # (calculating error for K values in k_range)\n",
    "    error_for_one_split = []\n",
    "    \n",
    "    err_one_split_test = []\n",
    "    err_one_split_train = []\n",
    "    \n",
    "    for i in k_interval:\n",
    "        knn = KNeighborsClassifier(n_neighbors=i)\n",
    "        knn.fit(X_train, y_train)\n",
    "        \n",
    "        y_train_predict = knn.predict(X_train)\n",
    "        y_test_predict = knn.predict(X_test)\n",
    "        \n",
    "        # metric\n",
    "        err_train_tmp = np.mean(y_train != y_train_predict)\n",
    "        err_test_tmp = np.mean(y_test != y_test_predict)\n",
    "        # err_train_tmp = f1_score(y_train, y_train_predict, average = 'macro')\n",
    "        # err_test_tmp = f1_score(y_test, y_test_predict, average = 'macro')\n",
    "        \n",
    "        err_one_split_test.append(err_test_tmp)\n",
    "        err_one_split_train.append(err_train_tmp)\n",
    "        \n",
    "        # check the best result\n",
    "        if err_test_tmp < best_result['error']:\n",
    "            best_result['split'] = split\n",
    "            best_result['k'] = i\n",
    "            best_result['error'] = err_test_tmp\n",
    "    error_over_splits_train.append(err_one_split_train)\n",
    "    error_over_splits_test.append(err_one_split_test)\n",
    "  return error_over_splits_train, error_over_splits_test, best_result\n",
    "\n",
    "\n",
    "def visualize_knn_analysis(X, y, splits=None, min_k=1, max_k=40):\n",
    "  if not splits:\n",
    "    splits = DEFAULT_SPLITS\n",
    "  k_range = range(min_k, max_k+1)\n",
    "  \n",
    "  # Training and Predictions\n",
    "  errors_over_splits_train, errors_over_splits_test, best_res = _knn_analysis(X, y, splits, k_range)\n",
    "          \n",
    "  # Plot results\n",
    "  plt.figure(num=1, figsize=(12, 6))\n",
    "  for test_size, errors_on_split, color in zip(splits, errors_over_splits_train, get_colors(len(splits))):\n",
    "    label_name = str(int(test_size * 100)) + '%/'+ str(int((1 - test_size) * 100)) + '%'\n",
    "    plt.plot(k_range, errors_on_split, color=color, marker='o', markerfacecolor='blue', markersize=2, label=label_name)\n",
    "\n",
    "  plt.title('Error Rate K Value')\n",
    "  plt.xlabel('K Value')\n",
    "  plt.ylabel('Mean Train Error')\n",
    "  plt.legend(loc='best')\n",
    "  \n",
    "  plt.figure(num=2, figsize=(12, 6))\n",
    "  for test_size, errors_on_split, color in zip(splits, errors_over_splits_test, get_colors(len(splits))):\n",
    "    label_name = str(int(test_size * 100)) + '%/'+ str(int((1 - test_size) * 100)) + '%'\n",
    "    plt.plot(k_range, errors_on_split, color=color, marker='o', markerfacecolor='blue', markersize=2, label=label_name)\n",
    "  plt.title('Error Rate K Value')\n",
    "  plt.xlabel('K Value')\n",
    "  plt.ylabel('Mean Test Error')\n",
    "  plt.legend(loc='best')\n",
    "  \n",
    "  print(\"Best set:\")\n",
    "  print(\"Split: \" + str(int((1 - best_res['split']) * 100)) + '%/' + str(int(best_res['split'] * 100)) + '%')\n",
    "  print(\"K: \" + str(best_res['k']))\n",
    "  print(\"Error value: \" + str(best_res['error']))"
   ]
  },
  {
   "cell_type": "code",
   "execution_count": 17,
   "metadata": {
    "pycharm": {
     "is_executing": false,
     "name": "#%%\n"
    }
   },
   "outputs": [
    {
     "name": "stderr",
     "text": [
      "<ipython-input-15-f8935e53a012>:7: DeprecationWarning: Call to deprecated `wv` (Attribute will be removed in 4.0.0, use self instead).\n",
      "  return True if model.wv.similarity(word1, word2) > threshold else False\n"
     ],
     "output_type": "stream"
    },
    {
     "name": "stdout",
     "text": [
      "Best set:\n",
      "Split: 80%/20%\n",
      "K: 8\n",
      "Error value: 0.6833333333333333\n"
     ],
     "output_type": "stream"
    },
    {
     "data": {
      "text/plain": "<Figure size 864x432 with 1 Axes>",
      "image/png": "[encoded data removed]"
     },
     "metadata": {
      "needs_background": "light"
     },
     "output_type": "display_data"
    },
    {
     "data": {
      "text/plain": "<Figure size 864x432 with 1 Axes>",
      "image/png": "[encoded data removed]"
     },
     "metadata": {
      "needs_background": "light"
     },
     "output_type": "display_data"
    }
   ],
   "source": [
    "DEFAULT_THRESHOLD = 0.5\n",
    "\n",
    "X_lev = feature_optimize(X, vectorizer_count, are_words_close, stemming=False, threshold=0.5, debug=False)\n",
    "visualize_knn_analysis(X_lev, y)"
   ]
  },
  {
   "cell_type": "markdown",
   "metadata": {},
   "source": [
    "## Анализ результатов"
   ]
  },
  {
   "cell_type": "markdown",
   "metadata": {},
   "source": [
    "### Классические бинарные метрики, баланс классов"
   ]
  },
  {
   "cell_type": "code",
   "execution_count": null,
   "metadata": {
    "pycharm": {
     "is_executing": true,
     "name": "#%%\n"
    }
   },
   "outputs": [],
   "source": [
    "X_train, X_test, y_train, y_test = train_test_split(X, y, test_size=20, stratify=y)\n",
    "knn = KNeighborsClassifier(n_neighbors=15)\n",
    "knn.fit(X, y)\n",
    "classes = ['гнев', 'отвращение', 'горе', 'изумление', 'ужас', 'восхищение', 'восторг', 'настроженность']\n",
    "report = classification_report(y, knn.predict(X), target_names=classes)\n",
    "print(report)"
   ]
  }
 ],
 "metadata": {
  "colab": {
   "name": "Classifier-HipotisysTest.ipynb",
   "provenance": []
  },
  "kernelspec": {
   "display_name": "Python 3",
   "language": "python",
   "name": "python3"
  },
  "language_info": {
   "codemirror_mode": {
    "name": "ipython",
    "version": 3
   },
   "file_extension": ".py",
   "mimetype": "text/x-python",
   "name": "python",
   "nbconvert_exporter": "python",
   "pygments_lexer": "ipython3",
   "version": "3.8.2"
  },
  "pycharm": {
   "stem_cell": {
    "cell_type": "raw",
    "source": [],
    "metadata": {
     "collapsed": false
    }
   }
  }
 },
 "nbformat": 4,
 "nbformat_minor": 1
}