{
 "cells": [
  {
   "cell_type": "code",
   "execution_count": 1,
   "metadata": {
    "pycharm": {
     "is_executing": false,
     "name": "#%%\n"
    }
   },
   "outputs": [
    {
     "name": "stderr",
     "text": [
      "/home/andrey/PycharmProjects/sentences_analysis/venv/lib/python3.8/site-packages/pandas/compat/__init__.py:117: UserWarning: Could not import the lzma module. Your installed Python is incomplete. Attempting to use lzma compression will result in a RuntimeError.\n",
      "  warnings.warn(msg)\n"
     ],
     "output_type": "stream"
    }
   ],
   "source": [
    "import pandas as pd\n",
    "import numpy as np\n",
    "import matplotlib.pyplot as plt\n",
    "\n",
    "from pymystem3 import Mystem\n",
    "from nltk.corpus import stopwords\n",
    "from string import punctuation\n",
    "from sklearn.feature_extraction.text import CountVectorizer, TfidfVectorizer\n",
    "import nltk\n",
    "import re"
   ]
  },
  {
   "cell_type": "markdown",
   "metadata": {},
   "source": [
    "## Подготовка данных"
   ]
  },
  {
   "cell_type": "code",
   "execution_count": 2,
   "metadata": {
    "pycharm": {
     "is_executing": false,
     "name": "#%%\n"
    }
   },
   "outputs": [
    {
     "name": "stderr",
     "text": [
      "[nltk_data] Downloading package stopwords to /home/andrey/nltk_data...\n",
      "[nltk_data]   Package stopwords is already up-to-date!\n"
     ],
     "output_type": "stream"
    }
   ],
   "source": [
    "data = pd.read_excel('data/KNN (1-3,5).xlsx') \n",
    "\n",
    "nltk.download(\"stopwords\")\n",
    "russian_stopwords = stopwords.words(\"russian\")\n",
    "mystem = Mystem()\n",
    "\n",
    "def preprocess_sentence(sentence):\n",
    "    tokens = mystem.lemmatize(sentence.lower())\n",
    "    tokens = [token for token in tokens if token not in russian_stopwords\\\n",
    "              and token != \" \" \\\n",
    "              and token.strip() not in punctuation]\n",
    "    \n",
    "    tokenized_sentence = \" \".join(tokens)\n",
    "    return tokenized_sentence \n",
    "\n",
    "emotions_table = {\n",
    "    'восторг': 'восторг',\n",
    "\t'радость': 'восторг',\n",
    "\t'безмятежность': 'восторг',\n",
    "    'восхищение': 'восхищение',\n",
    "\t'доверие': 'восхищение',\n",
    "\t'принятие': 'восхищение',\n",
    "    'ужас': 'ужас',\n",
    "\t'страх': 'ужас',\n",
    "\t'тревога': 'ужас',\n",
    "    'изумление': 'изумление',\n",
    "\t'удивление': 'изумление',\n",
    "\t'возбуждение': 'изумление',\n",
    "    'горе': 'горе',\n",
    "\t'грусть': 'горе',\n",
    "\t'печаль': 'горе',\n",
    "    'отвращение': 'отвращение',\n",
    "\t'неудовольствие': 'отвращение',\n",
    "\t'скука': 'отвращение',\n",
    "    'гнев': 'гнев',\n",
    "\t'злость': 'гнев',\n",
    "\t'досада': 'гнев',\n",
    "    'настороженность': 'настороженность',\n",
    "\t'ожидание': 'настороженность',\n",
    "\t'интерес': 'настороженность',\n",
    "}\n",
    "\n",
    "def normalize_emotion(emotion):\n",
    "    emotion = emotion.lower()\n",
    "    result = emotions_table.get(emotion)\n",
    "    assert result is not None, f\"Emotion '{emotion}' is not correct one.\"\n",
    "    return result.lower()\n",
    "\n",
    "def preprocess_sentence(sentence):\n",
    "    tokens = mystem.lemmatize(sentence.lower())\n",
    "    tokens = [token for token in tokens if token not in russian_stopwords\\\n",
    "              and token != \" \" \\\n",
    "              and token.strip() not in punctuation]\n",
    "    \n",
    "    tokenized_sentence = \" \".join(tokens)\n",
    "    return tokenized_sentence  \n",
    "\n",
    "processed_sentences = list(map(preprocess_sentence, data['Предложение']))\n",
    "temp = pd.DataFrame(columns=['Предложение', 'Эмоция'])\n",
    "\n",
    "for i, (emotion, sentence) in enumerate(zip(data['Эмоция'], processed_sentences)):\n",
    "    if any(delim in emotion for delim in (' ', ',', '.', '\\n')):\n",
    "        emotions = [normalize_emotion(e) for e in re.split('[ ,.\\n]', emotion.strip()) if e != '']\n",
    "        # for e in emotions:\n",
    "        #     temp = temp.append({'Предложение': sentence, 'Эмоция': e}, ignore_index=True)\n",
    "        temp = temp.append({'Предложение': sentence, 'Эмоция': emotions[0]}, ignore_index=True)\n",
    "    else:\n",
    "        temp = temp.append({'Предложение': sentence, 'Эмоция': normalize_emotion(emotion)}, ignore_index=True)\n",
    "\n",
    "processed_data = temp\n"
   ]
  },
  {
   "cell_type": "markdown",
   "metadata": {},
   "source": [
    "### 3. Analysis\n"
   ]
  },
  {
   "cell_type": "markdown",
   "metadata": {},
   "source": [
    "#### 3.1 Trying with CountVectorizer"
   ]
  },
  {
   "cell_type": "code",
   "execution_count": 3,
   "metadata": {
    "pycharm": {
     "is_executing": false,
     "name": "#%%\n"
    }
   },
   "outputs": [],
   "source": [
    "vectorizer_count = CountVectorizer()\n",
    "# tokenize and build vocab\n",
    "vectorizer_count.fit(processed_data['Предложение'])\n",
    "count_vec_matrix = vectorizer_count.transform(processed_data['Предложение'])"
   ]
  },
  {
   "cell_type": "markdown",
   "metadata": {},
   "source": [
    "## №4. Классификация"
   ]
  },
  {
   "cell_type": "code",
   "execution_count": 4,
   "metadata": {
    "pycharm": {
     "is_executing": false,
     "name": "#%%\n"
    }
   },
   "outputs": [],
   "source": [
    "from typing import List, Iterable, Dict, Tuple\n",
    "\n",
    "import collections\n",
    "import itertools\n",
    "import scipy\n",
    "import time\n",
    "\n",
    "from sklearn.model_selection import train_test_split\n",
    "from sklearn.neighbors import KNeighborsClassifier\n",
    "from sklearn.metrics import classification_report, confusion_matrix, accuracy_score\n",
    "\n",
    "from nltk.stem.snowball import RussianStemmer\n",
    "stemmer = RussianStemmer()"
   ]
  },
  {
   "cell_type": "markdown",
   "metadata": {},
   "source": [
    "### 4.1 Обучение классификатора \n",
    "Строим модели с разнами разбиениями датасета и разными k для KNN."
   ]
  },
  {
   "cell_type": "code",
   "execution_count": 5,
   "metadata": {
    "pycharm": {
     "is_executing": false,
     "name": "#%%\n"
    }
   },
   "outputs": [],
   "source": [
    "DEFAULT_COLORS = ['red', 'green', 'orange', 'purple', 'blue', 'gray', 'pink']\n",
    "DEFAULT_SPLITS = [0.20, 0.30, 0.40, 0.50]\n",
    "\n",
    "def get_colors(n):\n",
    "  colors = DEFAULT_COLORS[:n]\n",
    "  if n > len(DEFAULT_COLORS):\n",
    "    import matplotlib, random\n",
    "    all_colours = matplotlib.colors.get_named_colors_mapping()\n",
    "    colors.extend(random.choices(all_colours, k=n-len(DEFAULT_COLORS)))\n",
    "  return colors\n",
    "\n",
    "def _knn_analysis(X, y, splits, k_interval) -> Tuple[List[List[float]], List[List[float]], Dict[str, int]]:\n",
    "  error_over_splits_train = []\n",
    "  error_over_splits_test = []\n",
    "  best_result = {'split': 0, 'k': 0, 'error': 1}\n",
    "  for split in splits:\n",
    "    X_train, X_test, y_train, y_test = train_test_split(X, y, test_size=split)\n",
    "    #---------------------\n",
    "    # here could be scaler\n",
    "    #---------------------\n",
    "    # Comparing Error Rate with the K Value\n",
    "    # (calculating error for K values in k_range)\n",
    "    error_for_one_split = []\n",
    "    \n",
    "    err_one_split_test = []\n",
    "    err_one_split_train = []\n",
    "    \n",
    "    for i in k_interval:\n",
    "        knn = KNeighborsClassifier(n_neighbors=i)\n",
    "        knn.fit(X_train, y_train)\n",
    "        \n",
    "        y_train_predict = knn.predict(X_train)\n",
    "        y_test_predict = knn.predict(X_test)\n",
    "        \n",
    "        err_train_tmp = np.mean(y_train != y_train_predict)\n",
    "        err_test_tmp = np.mean(y_test != y_test_predict)\n",
    "        \n",
    "        err_one_split_test.append(err_test_tmp)\n",
    "        err_one_split_train.append(err_train_tmp)\n",
    "        \n",
    "        # check the best result\n",
    "        if err_test_tmp < best_result['error']:\n",
    "            best_result['split'] = split\n",
    "            best_result['k'] = i\n",
    "            best_result['error'] = err_test_tmp\n",
    "    error_over_splits_train.append(err_one_split_train)\n",
    "    error_over_splits_test.append(err_one_split_test)\n",
    "  return error_over_splits_train, error_over_splits_test, best_result"
   ]
  },
  {
   "cell_type": "markdown",
   "metadata": {},
   "source": [
    "### 4.2 Визуализация результатов"
   ]
  },
  {
   "cell_type": "code",
   "execution_count": 6,
   "metadata": {
    "pycharm": {
     "is_executing": false,
     "name": "#%%\n"
    }
   },
   "outputs": [],
   "source": [
    "def visualize_knn_analysis(X, y, splits=None, min_k=1, max_k=40):\n",
    "  if not splits:\n",
    "    splits = DEFAULT_SPLITS\n",
    "  k_range = range(min_k, max_k+1)\n",
    "  \n",
    "  # Training and Predictions\n",
    "  errors_over_splits_train, errors_over_splits_test, best_res = _knn_analysis(X, y, splits, k_range)\n",
    "          \n",
    "  # Plot results\n",
    "  plt.figure(num=1, figsize=(12, 6))\n",
    "  for test_size, errors_on_split, color in zip(splits, errors_over_splits_train, get_colors(len(splits))):\n",
    "    label_name = str(int(test_size * 100)) + '%/'+ str(int((1 - test_size) * 100)) + '%'\n",
    "    plt.plot(k_range, errors_on_split, color=color, marker='o', markerfacecolor='blue', markersize=2, label=label_name)\n",
    "\n",
    "  plt.title('Error Rate K Value')\n",
    "  plt.xlabel('K Value')\n",
    "  plt.ylabel('Mean Train Error')\n",
    "  plt.legend(loc='best')\n",
    "  \n",
    "  plt.figure(num=2, figsize=(12, 6))\n",
    "  for test_size, errors_on_split, color in zip(splits, errors_over_splits_test, get_colors(len(splits))):\n",
    "    label_name = str(int(test_size * 100)) + '%/'+ str(int((1 - test_size) * 100)) + '%'\n",
    "    plt.plot(k_range, errors_on_split, color=color, marker='o', markerfacecolor='blue', markersize=2, label=label_name)\n",
    "  plt.title('Error Rate K Value')\n",
    "  plt.xlabel('K Value')\n",
    "  plt.ylabel('Mean Test Error')\n",
    "  plt.legend(loc='best')\n",
    "  \n",
    "  print(\"Best set:\")\n",
    "  print(\"Split: \" + str(int((1 - best_res['split']) * 100)) + '%/' + str(int(best_res['split'] * 100)) + '%')\n",
    "  print(\"K: \" + str(best_res['k']))\n",
    "  print(\"Error value: \" + str(best_res['error']))"
   ]
  },
  {
   "cell_type": "markdown",
   "metadata": {},
   "source": [
    "### 4.3 Оптимизация пространства признаков"
   ]
  },
  {
   "cell_type": "code",
   "execution_count": 7,
   "metadata": {
    "pycharm": {
     "is_executing": false,
     "name": "#%%\n"
    }
   },
   "outputs": [],
   "source": [
    "def feature_optimize(X:scipy.sparse.csr_matrix, vectorizer, comparator, *, stemming=False, debug=False, **kwargs) -> scipy.sparse.csr_matrix:\n",
    "  df = pd.DataFrame(X.toarray(), columns=vectorizer.vocabulary_)\n",
    "  if debug:\n",
    "    print(f'Columns before: {len(df.columns)}')\n",
    "\n",
    "  # getting similar columns\n",
    "  start = time.time()\n",
    "  similar_col_groups = collections.defaultdict(set)\n",
    "  if stemming:\n",
    "    words_and_stems = {w: stemmer.stem(w) for w in df.columns}\n",
    "    df = df.groupby(level=0, axis=1).sum()\n",
    "  words = list(df.columns)\n",
    "  for i, (w1, w2) in enumerate(filter(lambda word_pair: comparator(*word_pair, **kwargs), \n",
    "                                      itertools.combinations(words, 2)), 1):\n",
    "    similar_col_groups[w1].add(w2)\n",
    "    similar_col_groups[w2].add(w1)\n",
    "    if debug:\n",
    "      if i % 1000 == 0:\n",
    "        print(f\"{i} entries are matched by comparator\")\n",
    "  if debug:\n",
    "    print('PROCESSING TIME:', time.time() - start)\n",
    "    print(f'Got similar_col_groups (len: {len(similar_col_groups)})')\n",
    "  \n",
    "  _merge_intersecting_groups(similar_col_groups)\n",
    "  if debug:\n",
    "    print('Groups after merging:', len(similar_col_groups))\n",
    "\n",
    "  df = join_columns(similar_col_groups.items(), df, debug)\n",
    "  if debug:\n",
    "    print(f'Columns after: {len(df.columns)}')\n",
    "  return scipy.sparse.csr_matrix(df.values)\n",
    "\n",
    "def _merge_intersecting_groups(similar_col_groups):\n",
    "  def merge_subkeys_into_group(main_key, group, subkeys=None):\n",
    "    if subkeys is None:\n",
    "      subkeys = set(group)\n",
    "    else:\n",
    "      group.update(subkeys)\n",
    "    for key in subkeys:\n",
    "      if key in similar_col_groups:\n",
    "        new_keys = similar_col_groups[key] - group - {key, main_key}\n",
    "        if len(new_keys) > 0:\n",
    "          merge_subkeys_into_group(main_key, group, new_keys)\n",
    "        del similar_col_groups[key]\n",
    "  for key in tuple(similar_col_groups.keys()):\n",
    "    if key in similar_col_groups:\n",
    "      group = similar_col_groups[key]\n",
    "      merge_subkeys_into_group(key, group)\n",
    "      \n",
    "def join_columns(column_groups: Iterable[Tuple[str, Iterable[str]]], df: pd.DataFrame, debug) -> pd.DataFrame:\n",
    "  if debug:\n",
    "    print('DF in \"join_columns\":\\n', df)\n",
    "  for key, group in column_groups:\n",
    "    for subkey in group:\n",
    "      if subkey in df.columns:\n",
    "        try:\n",
    "          df[key] += df[subkey]\n",
    "        except Exception as e:\n",
    "          rendered_cols = \", \".join(f\"'{col_name}\" for col_name in df.columns)\n",
    "          rendered_group = \", \".join(f\"'{k}'\" for k in group)\n",
    "          print(f\"key: '{key}'; subkey '{subkey}' [cols: {rendered_cols}] [group: {rendered_group}]\")\n",
    "          print(f\"df[key]: {df[key]}; df[subkey]: {df[subkey]}\")\n",
    "          exit('ERROR')\n",
    "        del df[subkey]\n",
    "      elif debug:\n",
    "        rendered_cols = \", \".join(f\"'{col_name}\" for col_name in df.columns)\n",
    "        rendered_group = \", \".join(f\"'{k}'\" for k in group)\n",
    "        print(f\"key: '{key}'; subkey '{subkey}' do not exist in DF [cols: {rendered_cols}] [group: {rendered_group}]\")\n",
    "  return df"
   ]
  },
  {
   "cell_type": "markdown",
   "metadata": {},
   "source": [
    "## №5. Анализ"
   ]
  },
  {
   "cell_type": "markdown",
   "metadata": {},
   "source": [
    "### **5.1 Bag-of-Words + KNN**"
   ]
  },
  {
   "cell_type": "markdown",
   "metadata": {},
   "source": [
    "#### **Baseline**"
   ]
  },
  {
   "cell_type": "code",
   "execution_count": 36,
   "metadata": {
    "pycharm": {
     "is_executing": false,
     "name": "#%%\n"
    }
   },
   "outputs": [],
   "source": [
    "X = count_vec_matrix\n",
    "y = processed_data['Эмоция'].to_numpy()"
   ]
  },
  {
   "cell_type": "markdown",
   "metadata": {},
   "source": [
    "## Анализ результатов"
   ]
  },
  {
   "cell_type": "code",
   "execution_count": 59,
   "metadata": {
    "pycharm": {
     "is_executing": false,
     "name": "#%%\n"
    }
   },
   "outputs": [],
   "source": [
    "from sklearn.metrics import f1_score, roc_auc_score, average_precision_score, log_loss\n",
    "from sklearn.preprocessing import MultiLabelBinarizer"
   ]
  },
  {
   "cell_type": "code",
   "execution_count": 60,
   "metadata": {
    "pycharm": {
     "is_executing": false,
     "name": "#%%\n"
    }
   },
   "outputs": [],
   "source": [
    "# classes = ['гнев', 'отвращение', 'горе', 'изумление', 'ужас', 'восхищение', 'восторг', 'настроженность']\n",
    "X_train, X_test, y_train, y_test = train_test_split(X, y, test_size=0.3, stratify=y)\n",
    "knn = KNeighborsClassifier(n_neighbors=15)\n",
    "knn.fit(X_train, y_train)\n",
    "knn_probs = knn.predict_proba(X_test)\n",
    "classes = knn.classes_\n",
    "y_pred = knn.predict(X_test)\n",
    "\n",
    "mlb = MultiLabelBinarizer(classes=classes)\n",
    "y_test_bin = mlb.fit_transform([[x] for x in y_test])"
   ]
  },
  {
   "cell_type": "markdown",
   "metadata": {},
   "source": [
    "### Классические бинарные метрики, баланс классов"
   ]
  },
  {
   "cell_type": "code",
   "execution_count": 45,
   "metadata": {
    "pycharm": {
     "is_executing": false,
     "name": "#%%\n"
    }
   },
   "outputs": [
    {
     "name": "stdout",
     "text": [
      "                 precision    recall  f1-score   support\n",
      "\n",
      "        восторг       0.00      0.00      0.00         8\n",
      "     восхищение       0.00      0.00      0.00         6\n",
      "           гнев       0.15      0.93      0.27        14\n",
      "           горе       0.00      0.00      0.00        12\n",
      "      изумление       0.00      0.00      0.00        12\n",
      "настороженность       1.00      0.17      0.29         6\n",
      "     отвращение       0.00      0.00      0.00         9\n",
      "           ужас       0.00      0.00      0.00        23\n",
      "\n",
      "       accuracy                           0.16        90\n",
      "      macro avg       0.14      0.14      0.07        90\n",
      "   weighted avg       0.09      0.16      0.06        90\n",
      "\n"
     ],
     "output_type": "stream"
    },
    {
     "data": {
      "text/plain": "<Figure size 720x432 with 1 Axes>",
      "image/png": "[encoded data removed]"
     },
     "metadata": {
      "needs_background": "light"
     },
     "output_type": "display_data"
    }
   ],
   "source": [
    "report_table = classification_report(y_test, knn.predict(X_test), target_names=classes)\n",
    "print(report_table)\n",
    "\n",
    "report_dict = classification_report(y_test, y_pred, target_names=classes, output_dict=True)\n",
    "\n",
    "fig = plt.figure(figsize=(10,6))\n",
    "ax = fig.add_axes([0,0,1,1])\n",
    "support = [report_dict[label]['support'] for label in classes]\n",
    "ax.bar(classes, support)\n",
    "plt.show()\n"
   ]
  },
  {
   "cell_type": "markdown",
   "metadata": {},
   "source": [
    "### Метрики качества многоклассовой классификации: микро- и макро-усреднение"
   ]
  },
  {
   "cell_type": "code",
   "execution_count": 55,
   "metadata": {
    "pycharm": {
     "is_executing": false,
     "name": "#%%\n"
    }
   },
   "outputs": [
    {
     "traceback": [
      "\u001b[0;31m---------------------------------------------------------------------------\u001b[0m",
      "\u001b[0;31mValueError\u001b[0m                                Traceback (most recent call last)",
      "\u001b[0;32m<ipython-input-55-4a09aeea83e3>\u001b[0m in \u001b[0;36m<module>\u001b[0;34m\u001b[0m\n\u001b[0;32m----> 1\u001b[0;31m \u001b[0mmicro\u001b[0m \u001b[0;34m=\u001b[0m \u001b[0mf1_score\u001b[0m\u001b[0;34m(\u001b[0m\u001b[0my_test\u001b[0m\u001b[0;34m,\u001b[0m \u001b[0mknn_probs\u001b[0m\u001b[0;34m,\u001b[0m \u001b[0maverage\u001b[0m \u001b[0;34m=\u001b[0m \u001b[0;34m'micro'\u001b[0m\u001b[0;34m)\u001b[0m\u001b[0;34m\u001b[0m\u001b[0;34m\u001b[0m\u001b[0m\n\u001b[0m\u001b[1;32m      2\u001b[0m \u001b[0mmacro\u001b[0m \u001b[0;34m=\u001b[0m \u001b[0mf1_score\u001b[0m\u001b[0;34m(\u001b[0m\u001b[0my_test\u001b[0m\u001b[0;34m,\u001b[0m \u001b[0mknn_probs\u001b[0m\u001b[0;34m,\u001b[0m \u001b[0maverage\u001b[0m \u001b[0;34m=\u001b[0m \u001b[0;34m'macro'\u001b[0m\u001b[0;34m)\u001b[0m\u001b[0;34m\u001b[0m\u001b[0;34m\u001b[0m\u001b[0m\n\u001b[1;32m      3\u001b[0m \u001b[0mprint\u001b[0m\u001b[0;34m(\u001b[0m\u001b[0;34m\"Micro: \"\u001b[0m\u001b[0;34m,\u001b[0m \u001b[0mmicro\u001b[0m\u001b[0;34m)\u001b[0m\u001b[0;34m\u001b[0m\u001b[0;34m\u001b[0m\u001b[0m\n\u001b[1;32m      4\u001b[0m \u001b[0mprint\u001b[0m\u001b[0;34m(\u001b[0m\u001b[0;34m\"Micro: \"\u001b[0m\u001b[0;34m,\u001b[0m \u001b[0mmacro\u001b[0m\u001b[0;34m)\u001b[0m\u001b[0;34m\u001b[0m\u001b[0;34m\u001b[0m\u001b[0m\n\u001b[1;32m      5\u001b[0m \u001b[0;34m\u001b[0m\u001b[0m\n",
      "\u001b[0;32m~/PycharmProjects/sentences_analysis/venv/lib/python3.8/site-packages/sklearn/metrics/_classification.py\u001b[0m in \u001b[0;36mf1_score\u001b[0;34m(y_true, y_pred, labels, pos_label, average, sample_weight, zero_division)\u001b[0m\n\u001b[1;32m   1094\u001b[0m     \u001b[0mmodified\u001b[0m \u001b[0;32mwith\u001b[0m\u001b[0;31m \u001b[0m\u001b[0;31m`\u001b[0m\u001b[0;31m`\u001b[0m\u001b[0mzero_division\u001b[0m\u001b[0;31m`\u001b[0m\u001b[0;31m`\u001b[0m\u001b[0;34m.\u001b[0m\u001b[0;34m\u001b[0m\u001b[0;34m\u001b[0m\u001b[0m\n\u001b[1;32m   1095\u001b[0m     \"\"\"\n\u001b[0;32m-> 1096\u001b[0;31m     return fbeta_score(y_true, y_pred, 1, labels=labels,\n\u001b[0m\u001b[1;32m   1097\u001b[0m                        \u001b[0mpos_label\u001b[0m\u001b[0;34m=\u001b[0m\u001b[0mpos_label\u001b[0m\u001b[0;34m,\u001b[0m \u001b[0maverage\u001b[0m\u001b[0;34m=\u001b[0m\u001b[0maverage\u001b[0m\u001b[0;34m,\u001b[0m\u001b[0;34m\u001b[0m\u001b[0;34m\u001b[0m\u001b[0m\n\u001b[1;32m   1098\u001b[0m                        \u001b[0msample_weight\u001b[0m\u001b[0;34m=\u001b[0m\u001b[0msample_weight\u001b[0m\u001b[0;34m,\u001b[0m\u001b[0;34m\u001b[0m\u001b[0;34m\u001b[0m\u001b[0m\n",
      "\u001b[0;32m~/PycharmProjects/sentences_analysis/venv/lib/python3.8/site-packages/sklearn/metrics/_classification.py\u001b[0m in \u001b[0;36mfbeta_score\u001b[0;34m(y_true, y_pred, beta, labels, pos_label, average, sample_weight, zero_division)\u001b[0m\n\u001b[1;32m   1217\u001b[0m     \"\"\"\n\u001b[1;32m   1218\u001b[0m \u001b[0;34m\u001b[0m\u001b[0m\n\u001b[0;32m-> 1219\u001b[0;31m     _, _, f, _ = precision_recall_fscore_support(y_true, y_pred,\n\u001b[0m\u001b[1;32m   1220\u001b[0m                                                  \u001b[0mbeta\u001b[0m\u001b[0;34m=\u001b[0m\u001b[0mbeta\u001b[0m\u001b[0;34m,\u001b[0m\u001b[0;34m\u001b[0m\u001b[0;34m\u001b[0m\u001b[0m\n\u001b[1;32m   1221\u001b[0m                                                  \u001b[0mlabels\u001b[0m\u001b[0;34m=\u001b[0m\u001b[0mlabels\u001b[0m\u001b[0;34m,\u001b[0m\u001b[0;34m\u001b[0m\u001b[0;34m\u001b[0m\u001b[0m\n",
      "\u001b[0;32m~/PycharmProjects/sentences_analysis/venv/lib/python3.8/site-packages/sklearn/metrics/_classification.py\u001b[0m in \u001b[0;36mprecision_recall_fscore_support\u001b[0;34m(y_true, y_pred, beta, labels, pos_label, average, warn_for, sample_weight, zero_division)\u001b[0m\n\u001b[1;32m   1481\u001b[0m     \u001b[0;32mif\u001b[0m \u001b[0mbeta\u001b[0m \u001b[0;34m<\u001b[0m \u001b[0;36m0\u001b[0m\u001b[0;34m:\u001b[0m\u001b[0;34m\u001b[0m\u001b[0;34m\u001b[0m\u001b[0m\n\u001b[1;32m   1482\u001b[0m         \u001b[0;32mraise\u001b[0m \u001b[0mValueError\u001b[0m\u001b[0;34m(\u001b[0m\u001b[0;34m\"beta should be >=0 in the F-beta score\"\u001b[0m\u001b[0;34m)\u001b[0m\u001b[0;34m\u001b[0m\u001b[0;34m\u001b[0m\u001b[0m\n\u001b[0;32m-> 1483\u001b[0;31m     labels = _check_set_wise_labels(y_true, y_pred, average, labels,\n\u001b[0m\u001b[1;32m   1484\u001b[0m                                     pos_label)\n\u001b[1;32m   1485\u001b[0m \u001b[0;34m\u001b[0m\u001b[0m\n",
      "\u001b[0;32m~/PycharmProjects/sentences_analysis/venv/lib/python3.8/site-packages/sklearn/metrics/_classification.py\u001b[0m in \u001b[0;36m_check_set_wise_labels\u001b[0;34m(y_true, y_pred, average, labels, pos_label)\u001b[0m\n\u001b[1;32m   1299\u001b[0m                          str(average_options))\n\u001b[1;32m   1300\u001b[0m \u001b[0;34m\u001b[0m\u001b[0m\n\u001b[0;32m-> 1301\u001b[0;31m     \u001b[0my_type\u001b[0m\u001b[0;34m,\u001b[0m \u001b[0my_true\u001b[0m\u001b[0;34m,\u001b[0m \u001b[0my_pred\u001b[0m \u001b[0;34m=\u001b[0m \u001b[0m_check_targets\u001b[0m\u001b[0;34m(\u001b[0m\u001b[0my_true\u001b[0m\u001b[0;34m,\u001b[0m \u001b[0my_pred\u001b[0m\u001b[0;34m)\u001b[0m\u001b[0;34m\u001b[0m\u001b[0;34m\u001b[0m\u001b[0m\n\u001b[0m\u001b[1;32m   1302\u001b[0m     \u001b[0mpresent_labels\u001b[0m \u001b[0;34m=\u001b[0m \u001b[0munique_labels\u001b[0m\u001b[0;34m(\u001b[0m\u001b[0my_true\u001b[0m\u001b[0;34m,\u001b[0m \u001b[0my_pred\u001b[0m\u001b[0;34m)\u001b[0m\u001b[0;34m\u001b[0m\u001b[0;34m\u001b[0m\u001b[0m\n\u001b[1;32m   1303\u001b[0m     \u001b[0;32mif\u001b[0m \u001b[0maverage\u001b[0m \u001b[0;34m==\u001b[0m \u001b[0;34m'binary'\u001b[0m\u001b[0;34m:\u001b[0m\u001b[0;34m\u001b[0m\u001b[0;34m\u001b[0m\u001b[0m\n",
      "\u001b[0;32m~/PycharmProjects/sentences_analysis/venv/lib/python3.8/site-packages/sklearn/metrics/_classification.py\u001b[0m in \u001b[0;36m_check_targets\u001b[0;34m(y_true, y_pred)\u001b[0m\n\u001b[1;32m     87\u001b[0m \u001b[0;34m\u001b[0m\u001b[0m\n\u001b[1;32m     88\u001b[0m     \u001b[0;32mif\u001b[0m \u001b[0mlen\u001b[0m\u001b[0;34m(\u001b[0m\u001b[0my_type\u001b[0m\u001b[0;34m)\u001b[0m \u001b[0;34m>\u001b[0m \u001b[0;36m1\u001b[0m\u001b[0;34m:\u001b[0m\u001b[0;34m\u001b[0m\u001b[0;34m\u001b[0m\u001b[0m\n\u001b[0;32m---> 89\u001b[0;31m         raise ValueError(\"Classification metrics can't handle a mix of {0} \"\n\u001b[0m\u001b[1;32m     90\u001b[0m                          \"and {1} targets\".format(type_true, type_pred))\n\u001b[1;32m     91\u001b[0m \u001b[0;34m\u001b[0m\u001b[0m\n",
      "\u001b[0;31mValueError\u001b[0m: Classification metrics can't handle a mix of multiclass and continuous-multioutput targets"
     ],
     "ename": "ValueError",
     "evalue": "Classification metrics can't handle a mix of multiclass and continuous-multioutput targets",
     "output_type": "error"
    }
   ],
   "source": [
    "micro = f1_score(y_test, y_pred, average = 'micro')\n",
    "macro = f1_score(y_test, y_pred, average = 'macro')\n",
    "print(\"Micro: \", micro)\n",
    "print(\"Micro: \", macro)"
   ]
  },
  {
   "cell_type": "markdown",
   "metadata": {},
   "source": [
    "### Метрики качества: AUC-ROC, AUC-PR"
   ]
  },
  {
   "cell_type": "code",
   "execution_count": 61,
   "metadata": {
    "pycharm": {
     "is_executing": false,
     "name": "#%%\n"
    }
   },
   "outputs": [
    {
     "name": "stdout",
     "text": [
      "AUC-ROC:  0.5316564015883408\n",
      "AUC-PR:  0.19679688222536784\n"
     ],
     "output_type": "stream"
    }
   ],
   "source": [
    "roc_auc = roc_auc_score(y_test_bin, knn_probs)\n",
    "aps = average_precision_score(y_test_bin, knn_probs)\n",
    "print(\"AUC-ROC: \", roc_auc)\n",
    "print(\"AUC-PR: \", aps)\n"
   ]
  },
  {
   "cell_type": "markdown",
   "metadata": {},
   "source": [
    "### Метрики качества: logloss"
   ]
  },
  {
   "cell_type": "code",
   "execution_count": 54,
   "metadata": {
    "pycharm": {
     "is_executing": false,
     "name": "#%%\n"
    }
   },
   "outputs": [
    {
     "name": "stdout",
     "text": [
      "log-loss:  4.813542741210963\n"
     ],
     "output_type": "stream"
    }
   ],
   "source": [
    "# print(mlb.fit_transform([[x] for x in y_test]))\n",
    "\n",
    "\n",
    "ll = log_loss(y_test_bin, knn_probs)\n",
    "print(\"log-loss: \", ll)\n",
    "\n"
   ]
  }
 ],
 "metadata": {
  "kernelspec": {
   "display_name": "Python 3",
   "language": "python",
   "name": "python3"
  },
  "language_info": {
   "codemirror_mode": {
    "name": "ipython",
    "version": 3
   },
   "file_extension": ".py",
   "mimetype": "text/x-python",
   "name": "python",
   "nbconvert_exporter": "python",
   "pygments_lexer": "ipython3",
   "version": "3.8.2"
  },
  "pycharm": {
   "stem_cell": {
    "cell_type": "raw",
    "source": [],
    "metadata": {
     "collapsed": false
    }
   }
  }
 },
 "nbformat": 4,
 "nbformat_minor": 1
}